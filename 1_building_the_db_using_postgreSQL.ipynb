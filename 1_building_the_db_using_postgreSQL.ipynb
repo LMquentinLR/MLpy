{
 "cells": [
  {
   "cell_type": "markdown",
   "metadata": {},
   "source": [
    "# 1. Building the DB with postgreSQL"
   ]
  },
  {
   "cell_type": "markdown",
   "metadata": {},
   "source": [
    "### Library imports"
   ]
  },
  {
   "cell_type": "code",
   "execution_count": 15,
   "metadata": {},
   "outputs": [],
   "source": [
    "from modules import download_most_recent_pgdump\n",
    "from modules import connect_execute_disconnect_from_psql\n",
    "from modules import retrieve_config_parameters\n",
    "from modules import restore_db\n",
    "from modules import save_db\n",
    "\n",
    "import time"
   ]
  },
  {
   "cell_type": "markdown",
   "metadata": {},
   "source": [
    "### 1. Downloading the Derpibooru DB\n",
    "\n",
    "The database we will be using is the DerpiBooru database, which is made available as a nightly postgreSQL dump (file format: .pgdump) on their [API page](https://www.derpibooru.org/pages/data_dumps)."
   ]
  },
  {
   "cell_type": "code",
   "execution_count": 2,
   "metadata": {
    "scrolled": true
   },
   "outputs": [],
   "source": [
    "# Initializes the target folder where the data dump will be stored on my computer.\n",
    "\n",
    "target_folder = \"D:/repositories/MLpy/data_dump/\""
   ]
  },
  {
   "cell_type": "code",
   "execution_count": 3,
   "metadata": {
    "scrolled": false
   },
   "outputs": [
    {
     "name": "stdout",
     "output_type": "stream",
     "text": [
      "attempt 1: requesting pgdump for date 2020_10_30\n",
      "the pgdump derpibooru_public_dump_2020_10_30.pgdump is already available locally.\n"
     ]
    }
   ],
   "source": [
    "# Calls the <download_most_recent_pgdump> function. \n",
    "# It will attempt to download the most recent dump available on the derpibooru website.\n",
    "\n",
    "download_most_recent_pgdump(target_folder)"
   ]
  },
  {
   "cell_type": "markdown",
   "metadata": {},
   "source": [
    "### 2. Creating an empty DB for the source data"
   ]
  },
  {
   "cell_type": "code",
   "execution_count": 4,
   "metadata": {},
   "outputs": [],
   "source": [
    "# Lists the commands to be passed to the postgreSQL instance\n",
    "\n",
    "command_list = {\"KILL all connections \\ DROP DB derpibooru\": \"DROP DATABASE derpibooru WITH (FORCE);\",\n",
    "                \"DROP DB derpi_lite\"                       : \"DROP DATABASE derpi_lite;\",\n",
    "                \"CREATE DB derpibooru\"                     : \"CREATE DATABASE derpibooru;\"}"
   ]
  },
  {
   "cell_type": "code",
   "execution_count": 5,
   "metadata": {},
   "outputs": [
    {
     "name": "stdout",
     "output_type": "stream",
     "text": [
      "Connecting to the PostgreSQL database...\n",
      "ISOLATION_LEVEL_AUTOCOMMIT: 0\n",
      "KILL all connections \\ DROP DB derpibooru\n",
      "DROP DB derpibooru\n",
      "Failed: database \"derpibooru\" does not exist\n",
      "\n",
      "DROP DB derpi_lite\n",
      "CREATE DB derpibooru\n",
      "Database connection closed.\n"
     ]
    }
   ],
   "source": [
    "# Connects to the postgreSQL instance and executes the list of commands listed above\n",
    "\n",
    "connect_execute_disconnect_from_psql(filename=\"database.ini\",\n",
    "                                     section=\"postgresql\",\n",
    "                                     command_list=command_list)"
   ]
  },
  {
   "cell_type": "markdown",
   "metadata": {},
   "source": [
    "### 3. Restoring the source DB"
   ]
  },
  {
   "cell_type": "code",
   "execution_count": 6,
   "metadata": {},
   "outputs": [
    {
     "name": "stdout",
     "output_type": "stream",
     "text": [
      ".\n",
      "..\n",
      "databases\n",
      "derpibooru_public_dump_2020_10_30.pgdump\n"
     ]
    }
   ],
   "source": [
    "!ls data_dump -a"
   ]
  },
  {
   "cell_type": "code",
   "execution_count": 7,
   "metadata": {},
   "outputs": [
    {
     "name": "stdout",
     "output_type": "stream",
     "text": [
      "Restoring derpibooru -- Please wait\n",
      "Restoration of derpibooru in process\n",
      "This might take up to an hour on an hdd, please be patient and use psql to check process\n"
     ]
    }
   ],
   "source": [
    "# Restores the db from the .pgdump file. It might take a long time to run.\n",
    "\n",
    "restore_db(filename=\"database.ini\",\n",
    "           section=\"restoring_derpibooru\",\n",
    "           source=\"derpibooru_public_dump_2020_10_30.pgdump\",\n",
    "           target_folder=target_folder)"
   ]
  },
  {
   "cell_type": "markdown",
   "metadata": {},
   "source": [
    "This process took c. 25 minutes on the following machine:\n",
    "- i5 4460\n",
    "- 16gb ddr3\n",
    "- GTX980ti\n",
    "- 640gb WD HDD 7.2k rpm"
   ]
  },
  {
   "cell_type": "code",
   "execution_count": null,
   "metadata": {},
   "outputs": [],
   "source": [
    "# Waits minutes\n",
    "time.sleep(30*60)"
   ]
  },
  {
   "cell_type": "markdown",
   "metadata": {},
   "source": [
    "### 4. Isolation inside new tables of the information we want to keep"
   ]
  },
  {
   "cell_type": "code",
   "execution_count": 8,
   "metadata": {},
   "outputs": [],
   "source": [
    "# Lists the commands to be passed to the postgreSQL instance\n",
    "\n",
    "command_list = {\n",
    "    \"CREATE TABLE new_images\"        : \"SELECT id, created_at, score, image_format, version_path INTO new_images \" \\\n",
    "                                       \"FROM images WHERE image_format IN ('png', 'PNG', 'jpg', 'JPEG', 'jpeg');\", \n",
    "    \"CREATE TABLE new_image_taggings\": \"SELECT image_id, tag_id INTO new_image_taggings FROM image_taggings \" \\\n",
    "                                       \"WHERE image_id IN (SELECT id FROM new_images);\",\n",
    "    \"CREATE TABLE new_tags\"          : \"SELECT id, name INTO new_tags FROM tags WHERE id IN (SELECT tag_id FROM \" \\\n",
    "                                       \"new_image_taggings);\"\n",
    "}"
   ]
  },
  {
   "cell_type": "code",
   "execution_count": 9,
   "metadata": {},
   "outputs": [
    {
     "name": "stdout",
     "output_type": "stream",
     "text": [
      "Connecting to the PostgreSQL database...\n",
      "ISOLATION_LEVEL_AUTOCOMMIT: 0\n",
      "CREATE TABLE new_images\n",
      "CREATE TABLE new_image_taggings\n",
      "CREATE TABLE new_tags\n",
      "Database connection closed.\n"
     ]
    }
   ],
   "source": [
    "# Connects to the postgreSQL instance and executes the list of commands listed above\n",
    "\n",
    "connect_execute_disconnect_from_psql(filename=\"database.ini\",\n",
    "                                     section=\"derpibooru_full\",\n",
    "                                     command_list=command_list)"
   ]
  },
  {
   "cell_type": "markdown",
   "metadata": {},
   "source": [
    "### 5. Removal of unneeded tables"
   ]
  },
  {
   "cell_type": "code",
   "execution_count": null,
   "metadata": {},
   "outputs": [],
   "source": [
    "# Lists the tables to be deleted from the DB\n",
    "\n",
    "tables = [\"tags\",\"images\", \"badge_awards\",\"badges\",\"comments\",\"duplicate_reports\",\"forums\",\n",
    "          \"galleries\",\"gallery_interactions\",\"image_duplicates\",\"image_faves\",\"image_features\",\n",
    "          \"image_hides\",\"image_intensities\",\"image_sources\",\"image_taggings\",\"posts\",\n",
    "          \"source_changes\",\"tag_aliases\",\"tag_changes\",\"tag_implications\",\"topics\",\"user_links\",\n",
    "          \"users\"]"
   ]
  },
  {
   "cell_type": "code",
   "execution_count": 10,
   "metadata": {
    "scrolled": false
   },
   "outputs": [
    {
     "name": "stdout",
     "output_type": "stream",
     "text": [
      "Connecting to the PostgreSQL database...\n",
      "ISOLATION_LEVEL_AUTOCOMMIT: 0\n",
      "DROP tags\n",
      "Database connection closed.\n",
      "Connecting to the PostgreSQL database...\n",
      "ISOLATION_LEVEL_AUTOCOMMIT: 0\n",
      "DROP images\n",
      "Database connection closed.\n",
      "Connecting to the PostgreSQL database...\n",
      "ISOLATION_LEVEL_AUTOCOMMIT: 0\n",
      "DROP badge_awards\n",
      "Database connection closed.\n",
      "Connecting to the PostgreSQL database...\n",
      "ISOLATION_LEVEL_AUTOCOMMIT: 0\n",
      "DROP badges\n",
      "Database connection closed.\n",
      "Connecting to the PostgreSQL database...\n",
      "ISOLATION_LEVEL_AUTOCOMMIT: 0\n",
      "DROP comments\n",
      "Database connection closed.\n",
      "Connecting to the PostgreSQL database...\n",
      "ISOLATION_LEVEL_AUTOCOMMIT: 0\n",
      "DROP duplicate_reports\n",
      "Database connection closed.\n",
      "Connecting to the PostgreSQL database...\n",
      "ISOLATION_LEVEL_AUTOCOMMIT: 0\n",
      "DROP forums\n",
      "Database connection closed.\n",
      "Connecting to the PostgreSQL database...\n",
      "ISOLATION_LEVEL_AUTOCOMMIT: 0\n",
      "DROP galleries\n",
      "Database connection closed.\n",
      "Connecting to the PostgreSQL database...\n",
      "ISOLATION_LEVEL_AUTOCOMMIT: 0\n",
      "DROP gallery_interactions\n",
      "Database connection closed.\n",
      "Connecting to the PostgreSQL database...\n",
      "ISOLATION_LEVEL_AUTOCOMMIT: 0\n",
      "DROP image_duplicates\n",
      "Database connection closed.\n",
      "Connecting to the PostgreSQL database...\n",
      "ISOLATION_LEVEL_AUTOCOMMIT: 0\n",
      "DROP image_faves\n",
      "Database connection closed.\n",
      "Connecting to the PostgreSQL database...\n",
      "ISOLATION_LEVEL_AUTOCOMMIT: 0\n",
      "DROP image_features\n",
      "Database connection closed.\n",
      "Connecting to the PostgreSQL database...\n",
      "ISOLATION_LEVEL_AUTOCOMMIT: 0\n",
      "DROP image_hides\n",
      "Database connection closed.\n",
      "Connecting to the PostgreSQL database...\n",
      "ISOLATION_LEVEL_AUTOCOMMIT: 0\n",
      "DROP image_intensities\n",
      "Database connection closed.\n",
      "Connecting to the PostgreSQL database...\n",
      "ISOLATION_LEVEL_AUTOCOMMIT: 0\n",
      "DROP image_sources\n",
      "Database connection closed.\n",
      "Connecting to the PostgreSQL database...\n",
      "ISOLATION_LEVEL_AUTOCOMMIT: 0\n",
      "DROP image_taggings\n",
      "Database connection closed.\n",
      "Connecting to the PostgreSQL database...\n",
      "ISOLATION_LEVEL_AUTOCOMMIT: 0\n",
      "DROP posts\n",
      "Database connection closed.\n",
      "Connecting to the PostgreSQL database...\n",
      "ISOLATION_LEVEL_AUTOCOMMIT: 0\n",
      "DROP source_changes\n",
      "Database connection closed.\n",
      "Connecting to the PostgreSQL database...\n",
      "ISOLATION_LEVEL_AUTOCOMMIT: 0\n",
      "DROP tag_aliases\n",
      "Database connection closed.\n",
      "Connecting to the PostgreSQL database...\n",
      "ISOLATION_LEVEL_AUTOCOMMIT: 0\n",
      "DROP tag_changes\n",
      "Database connection closed.\n",
      "Connecting to the PostgreSQL database...\n",
      "ISOLATION_LEVEL_AUTOCOMMIT: 0\n",
      "DROP tag_implications\n",
      "Database connection closed.\n",
      "Connecting to the PostgreSQL database...\n",
      "ISOLATION_LEVEL_AUTOCOMMIT: 0\n",
      "DROP topics\n",
      "Database connection closed.\n",
      "Connecting to the PostgreSQL database...\n",
      "ISOLATION_LEVEL_AUTOCOMMIT: 0\n",
      "DROP user_links\n",
      "Database connection closed.\n",
      "Connecting to the PostgreSQL database...\n",
      "ISOLATION_LEVEL_AUTOCOMMIT: 0\n",
      "DROP users\n",
      "Database connection closed.\n"
     ]
    }
   ],
   "source": [
    "# Connects to the postgreSQL instance and deletes each table listed in the variable above\n",
    "# This takes a long time to run: ~25 minutes\n",
    "\n",
    "for table in tables:\n",
    "    connect_execute_disconnect_from_psql(filename=\"database.ini\",\n",
    "                                     section=\"derpibooru_full\",\n",
    "                                     command_list={f\"DROP {table}\": f\"DROP TABLE {table} CASCADE\"})"
   ]
  },
  {
   "cell_type": "markdown",
   "metadata": {},
   "source": [
    "### 6. Renaming the DB"
   ]
  },
  {
   "cell_type": "code",
   "execution_count": 11,
   "metadata": {},
   "outputs": [],
   "source": [
    "# Lists the commands to be passed to the postgreSQL instance\n",
    "\n",
    "command_list = {\"RENAME derpibooru\": \"ALTER DATABASE derpibooru RENAME TO derpi_lite;\"}"
   ]
  },
  {
   "cell_type": "code",
   "execution_count": 12,
   "metadata": {},
   "outputs": [
    {
     "name": "stdout",
     "output_type": "stream",
     "text": [
      "Connecting to the PostgreSQL database...\n",
      "ISOLATION_LEVEL_AUTOCOMMIT: 0\n",
      "RENAME derpibooru\n",
      "Database connection closed.\n"
     ]
    }
   ],
   "source": [
    "# Connects to the postgreSQL instance and executes the list of commands listed above\n",
    "\n",
    "connect_execute_disconnect_from_psql(filename=\"database.ini\",\n",
    "                                     section=\"postgresql\",\n",
    "                                     command_list=command_list)"
   ]
  },
  {
   "cell_type": "markdown",
   "metadata": {},
   "source": [
    "### 7. Saving the DB in a new .pgdump"
   ]
  },
  {
   "cell_type": "code",
   "execution_count": 13,
   "metadata": {},
   "outputs": [
    {
     "name": "stdout",
     "output_type": "stream",
     "text": [
      "Saving derpi_lite -- Please wait\n",
      "Saving in process\n",
      "This might take, please be patient and use psql to check process\n"
     ]
    }
   ],
   "source": [
    "# Saves the db into a .pgdump file. It might take a long time to run.\n",
    "\n",
    "save_db(filename=\"database.ini\", \n",
    "        section=\"postgresql\", \n",
    "        filename_of_db=\"derpi_lite\", \n",
    "        target_folder=target_folder)"
   ]
  },
  {
   "cell_type": "markdown",
   "metadata": {},
   "source": [
    "This process took c. 5 minutes on the following machine:"
   ]
  },
  {
   "cell_type": "code",
   "execution_count": 16,
   "metadata": {},
   "outputs": [],
   "source": [
    "# Waits minutes\n",
    "time.sleep(10*60)"
   ]
  },
  {
   "cell_type": "markdown",
   "metadata": {},
   "source": [
    "### 8. (OPTIONAL) Dropping the active DB"
   ]
  },
  {
   "cell_type": "code",
   "execution_count": 17,
   "metadata": {},
   "outputs": [],
   "source": [
    "# Lists the tables to be deleted from the DB\n",
    "\n",
    "command_list = {\"KILL all connections \\ DROP DB derpibooru\": \"DROP DATABASE derpi_lite WITH (FORCE);\"}"
   ]
  },
  {
   "cell_type": "code",
   "execution_count": 18,
   "metadata": {},
   "outputs": [
    {
     "name": "stdout",
     "output_type": "stream",
     "text": [
      "Connecting to the PostgreSQL database...\n",
      "ISOLATION_LEVEL_AUTOCOMMIT: 0\n",
      "KILL all connections \\ DROP DB derpibooru\n",
      "Database connection closed.\n"
     ]
    }
   ],
   "source": [
    "# Connects to the postgreSQL instance and deletes each table listed in the variable above\n",
    "\n",
    "connect_execute_disconnect_from_psql(filename=\"database.ini\",\n",
    "                                     section=\"postgresql\",\n",
    "                                     command_list=command_list)"
   ]
  }
 ],
 "metadata": {
  "kernelspec": {
   "display_name": "Python 3",
   "language": "python",
   "name": "python3"
  },
  "language_info": {
   "codemirror_mode": {
    "name": "ipython",
    "version": 3
   },
   "file_extension": ".py",
   "mimetype": "text/x-python",
   "name": "python",
   "nbconvert_exporter": "python",
   "pygments_lexer": "ipython3",
   "version": "3.8.3"
  }
 },
 "nbformat": 4,
 "nbformat_minor": 2
}

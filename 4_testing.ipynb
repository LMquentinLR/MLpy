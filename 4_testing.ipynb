{
 "cells": [
  {
   "cell_type": "markdown",
   "metadata": {},
   "source": [
    "## 0. Library Imports"
   ]
  },
  {
   "cell_type": "code",
   "execution_count": 42,
   "metadata": {
    "scrolled": true
   },
   "outputs": [],
   "source": [
    "import numpy as np\n",
    "import tensorflow as tf   \n",
    "from tensorflow import keras\n",
    "from tensorflow.keras import layers\n",
    "from keras.layers import Dense, Conv2D, BatchNormalization, Activation, ZeroPadding2D\n",
    "from keras.layers import AveragePooling2D, MaxPooling2D, Flatten, Add\n",
    "from keras.models import Model\n",
    "from keras.regularizers import l2\n",
    "\n",
    "import os\n",
    "from pathlib import Path\n",
    "\n",
    "import matplotlib.pyplot as plt\n",
    "import pandas as pd\n",
    "from modules import create_dataset_csv\n",
    "from modules import download_images"
   ]
  },
  {
   "cell_type": "code",
   "execution_count": 2,
   "metadata": {
    "scrolled": true
   },
   "outputs": [
    {
     "name": "stdout",
     "output_type": "stream",
     "text": [
      "Num GPUs Available:  1\n"
     ]
    },
    {
     "data": {
      "text/plain": [
       "'/device:GPU:0'"
      ]
     },
     "execution_count": 2,
     "metadata": {},
     "output_type": "execute_result"
    }
   ],
   "source": [
    "print(\"Num GPUs Available: \", len(tf.config.experimental.list_physical_devices('GPU')))\n",
    "tf.test.gpu_device_name()"
   ]
  },
  {
   "cell_type": "markdown",
   "metadata": {},
   "source": [
    "## 1. Generating a Dataset"
   ]
  },
  {
   "cell_type": "code",
   "execution_count": 3,
   "metadata": {},
   "outputs": [],
   "source": [
    "image_size = (256, 256)\n",
    "batch_size = 16"
   ]
  },
  {
   "cell_type": "code",
   "execution_count": 3,
   "metadata": {
    "scrolled": true
   },
   "outputs": [
    {
     "name": "stdout",
     "output_type": "stream",
     "text": [
      "Found 88468 files belonging to 2 classes.\n",
      "Using 17693 files for validation.\n"
     ]
    }
   ],
   "source": [
    "val_ds = tf.keras.preprocessing.image_dataset_from_directory(\n",
    "    os.getcwd()+\"/data_dump/datasets/ds_test\",\n",
    "    validation_split=0.2,\n",
    "    subset=\"validation\",\n",
    "    seed=1337,\n",
    "    image_size=image_size,\n",
    "    batch_size=batch_size,\n",
    ")"
   ]
  },
  {
   "cell_type": "markdown",
   "metadata": {},
   "source": [
    "## 2. Loading The Model Architecture"
   ]
  },
  {
   "cell_type": "code",
   "execution_count": 4,
   "metadata": {
    "scrolled": true
   },
   "outputs": [],
   "source": [
    "def make_model(input_shape, num_classes):\n",
    "    inputs = keras.Input(shape=input_shape)\n",
    "\n",
    "    # Entry block\n",
    "    x = layers.experimental.preprocessing.Rescaling(1.0 / 255)(inputs)\n",
    "    x = Conv2D(32, kernel_size=(3, 3), strides=2, padding=\"same\")(x)\n",
    "    x = BatchNormalization()(x)\n",
    "    x = Activation(\"relu\")(x)\n",
    "\n",
    "    x = Conv2D(64, kernel_size=(3, 3), padding=\"same\")(x)\n",
    "    x = BatchNormalization()(x)\n",
    "    x = Activation(\"relu\")(x)\n",
    "\n",
    "    previous_block_activation = x  # Set aside residual\n",
    "\n",
    "    for size in [32, 64, 128, 256]:\n",
    "        \n",
    "        x = layers.SeparableConv2D(size, kernel_size=(3, 3), padding=\"same\")(x)\n",
    "        x = BatchNormalization()(x)\n",
    "        x = Activation(\"relu\")(x)\n",
    "        \n",
    "        x = layers.SeparableConv2D(size, kernel_size=(3, 3), padding=\"same\")(x)\n",
    "        x = BatchNormalization()(x)\n",
    "        x = Activation(\"relu\")(x)\n",
    "        \n",
    "        x = MaxPooling2D((3, 3), strides=2, padding=\"same\")(x)\n",
    "\n",
    "        # Project residual\n",
    "        residual = Conv2D(size, kernel_size=(1, 1), strides=2, padding=\"same\")(\n",
    "            previous_block_activation\n",
    "        )\n",
    "        x = layers.add([x, residual])  # Add back residual\n",
    "        previous_block_activation = x  # Set aside next residual\n",
    "\n",
    "    x = layers.SeparableConv2D(128, kernel_size=(3, 3), padding=\"same\")(x)\n",
    "    x = BatchNormalization()(x)\n",
    "    x = Activation(\"relu\")(x)\n",
    "\n",
    "    x = layers.GlobalAveragePooling2D()(x)\n",
    "    if num_classes == 2:\n",
    "        activation = \"sigmoid\"\n",
    "        units = 1\n",
    "    else:\n",
    "        activation = \"softmax\"\n",
    "        units = num_classes\n",
    "\n",
    "    x = layers.Dropout(0.5)(x)\n",
    "    outputs = layers.Dense(units, activation=activation)(x)\n",
    "    return keras.Model(inputs, outputs)\n",
    "\n",
    "\n",
    "model = make_model(input_shape=image_size + (3,), num_classes=2)\n",
    "#keras.utils.plot_model(model, show_shapes=True)"
   ]
  },
  {
   "cell_type": "markdown",
   "metadata": {},
   "source": [
    "## 3. Recording the Validation Set Accuracy"
   ]
  },
  {
   "cell_type": "code",
   "execution_count": 6,
   "metadata": {
    "scrolled": true
   },
   "outputs": [
    {
     "name": "stdout",
     "output_type": "stream",
     "text": [
      "Calculating Accuracy for RNN model after 1 epochs\n",
      "model architecture loaded and compiled\n",
      "model weights loaded\n",
      "Calculating Accuracy for RNN model after 2 epochs\n",
      "model architecture loaded and compiled\n",
      "model weights loaded\n",
      "Calculating Accuracy for RNN model after 3 epochs\n",
      "model architecture loaded and compiled\n",
      "model weights loaded\n",
      "Calculating Accuracy for RNN model after 4 epochs\n",
      "model architecture loaded and compiled\n",
      "model weights loaded\n",
      "Calculating Accuracy for RNN model after 5 epochs\n",
      "model architecture loaded and compiled\n",
      "model weights loaded\n",
      "Calculating Accuracy for RNN model after 6 epochs\n",
      "model architecture loaded and compiled\n",
      "model weights loaded\n",
      "Calculating Accuracy for RNN model after 7 epochs\n",
      "model architecture loaded and compiled\n",
      "model weights loaded\n",
      "Calculating Accuracy for RNN model after 8 epochs\n",
      "model architecture loaded and compiled\n",
      "model weights loaded\n",
      "Calculating Accuracy for RNN model after 9 epochs\n",
      "model architecture loaded and compiled\n",
      "model weights loaded\n",
      "Calculating Accuracy for RNN model after 10 epochs\n",
      "model architecture loaded and compiled\n",
      "model weights loaded\n",
      "Calculating Accuracy for RNN model after 11 epochs\n",
      "model architecture loaded and compiled\n",
      "model weights loaded\n",
      "Calculating Accuracy for RNN model after 12 epochs\n",
      "model architecture loaded and compiled\n",
      "model weights loaded\n",
      "Calculating Accuracy for RNN model after 13 epochs\n",
      "model architecture loaded and compiled\n",
      "model weights loaded\n",
      "Calculating Accuracy for RNN model after 14 epochs\n",
      "model architecture loaded and compiled\n",
      "model weights loaded\n",
      "Calculating Accuracy for RNN model after 15 epochs\n",
      "model architecture loaded and compiled\n",
      "model weights loaded\n",
      "Calculating Accuracy for RNN model after 16 epochs\n",
      "model architecture loaded and compiled\n",
      "model weights loaded\n",
      "Calculating Accuracy for RNN model after 17 epochs\n",
      "model architecture loaded and compiled\n",
      "model weights loaded\n",
      "Calculating Accuracy for RNN model after 18 epochs\n",
      "model architecture loaded and compiled\n",
      "model weights loaded\n",
      "Calculating Accuracy for RNN model after 19 epochs\n",
      "model architecture loaded and compiled\n",
      "model weights loaded\n",
      "Calculating Accuracy for RNN model after 20 epochs\n",
      "model architecture loaded and compiled\n",
      "model weights loaded\n",
      "Calculating Accuracy for RNN model after 21 epochs\n",
      "model architecture loaded and compiled\n",
      "model weights loaded\n",
      "Calculating Accuracy for RNN model after 22 epochs\n",
      "model architecture loaded and compiled\n",
      "model weights loaded\n",
      "Calculating Accuracy for RNN model after 23 epochs\n",
      "model architecture loaded and compiled\n",
      "model weights loaded\n",
      "Calculating Accuracy for RNN model after 24 epochs\n",
      "model architecture loaded and compiled\n",
      "model weights loaded\n",
      "Calculating Accuracy for RNN model after 25 epochs\n",
      "model architecture loaded and compiled\n",
      "model weights loaded\n",
      "Calculating Accuracy for RNN model after 26 epochs\n",
      "model architecture loaded and compiled\n",
      "model weights loaded\n",
      "Calculating Accuracy for RNN model after 27 epochs\n",
      "model architecture loaded and compiled\n",
      "model weights loaded\n",
      "Calculating Accuracy for RNN model after 28 epochs\n",
      "model architecture loaded and compiled\n",
      "model weights loaded\n",
      "Calculating Accuracy for RNN model after 29 epochs\n",
      "model architecture loaded and compiled\n",
      "model weights loaded\n",
      "Calculating Accuracy for RNN model after 30 epochs\n",
      "model architecture loaded and compiled\n",
      "model weights loaded\n",
      "Calculating Accuracy for RNN model after 31 epochs\n",
      "model architecture loaded and compiled\n",
      "model weights loaded\n",
      "Calculating Accuracy for RNN model after 32 epochs\n",
      "model architecture loaded and compiled\n",
      "model weights loaded\n",
      "Calculating Accuracy for RNN model after 33 epochs\n",
      "model architecture loaded and compiled\n",
      "model weights loaded\n",
      "Calculating Accuracy for RNN model after 34 epochs\n",
      "model architecture loaded and compiled\n",
      "model weights loaded\n",
      "Calculating Accuracy for RNN model after 35 epochs\n",
      "model architecture loaded and compiled\n",
      "model weights loaded\n",
      "Calculating Accuracy for RNN model after 36 epochs\n",
      "model architecture loaded and compiled\n",
      "model weights loaded\n",
      "Calculating Accuracy for RNN model after 37 epochs\n",
      "model architecture loaded and compiled\n",
      "model weights loaded\n",
      "Calculating Accuracy for RNN model after 38 epochs\n",
      "model architecture loaded and compiled\n",
      "model weights loaded\n",
      "Calculating Accuracy for RNN model after 39 epochs\n",
      "model architecture loaded and compiled\n",
      "model weights loaded\n",
      "Calculating Accuracy for RNN model after 40 epochs\n",
      "model architecture loaded and compiled\n",
      "model weights loaded\n",
      "Calculating Accuracy for RNN model after 41 epochs\n",
      "model architecture loaded and compiled\n",
      "model weights loaded\n",
      "Calculating Accuracy for RNN model after 42 epochs\n",
      "model architecture loaded and compiled\n",
      "model weights loaded\n",
      "Calculating Accuracy for RNN model after 43 epochs\n",
      "model architecture loaded and compiled\n",
      "model weights loaded\n",
      "Calculating Accuracy for RNN model after 44 epochs\n",
      "model architecture loaded and compiled\n",
      "model weights loaded\n",
      "Calculating Accuracy for RNN model after 45 epochs\n",
      "model architecture loaded and compiled\n",
      "model weights loaded\n",
      "Calculating Accuracy for RNN model after 46 epochs\n",
      "model architecture loaded and compiled\n",
      "model weights loaded\n",
      "Calculating Accuracy for RNN model after 47 epochs\n",
      "model architecture loaded and compiled\n",
      "model weights loaded\n",
      "Calculating Accuracy for RNN model after 48 epochs\n",
      "model architecture loaded and compiled\n",
      "model weights loaded\n",
      "Calculating Accuracy for RNN model after 49 epochs\n",
      "model architecture loaded and compiled\n",
      "model weights loaded\n",
      "Calculating Accuracy for RNN model after 50 epochs\n",
      "model architecture loaded and compiled\n",
      "model weights loaded\n",
      "Calculating Accuracy for RNN model after 51 epochs\n",
      "model architecture loaded and compiled\n",
      "model weights loaded\n",
      "Calculating Accuracy for RNN model after 52 epochs\n",
      "model architecture loaded and compiled\n",
      "model weights loaded\n",
      "Calculating Accuracy for RNN model after 53 epochs\n",
      "model architecture loaded and compiled\n",
      "model weights loaded\n",
      "Calculating Accuracy for RNN model after 54 epochs\n",
      "model architecture loaded and compiled\n",
      "model weights loaded\n",
      "Calculating Accuracy for RNN model after 55 epochs\n",
      "model architecture loaded and compiled\n",
      "model weights loaded\n",
      "Calculating Accuracy for RNN model after 56 epochs\n",
      "model architecture loaded and compiled\n",
      "model weights loaded\n",
      "Calculating Accuracy for RNN model after 57 epochs\n",
      "model architecture loaded and compiled\n",
      "model weights loaded\n",
      "Calculating Accuracy for RNN model after 58 epochs\n",
      "model architecture loaded and compiled\n",
      "model weights loaded\n",
      "Calculating Accuracy for RNN model after 59 epochs\n",
      "model architecture loaded and compiled\n",
      "model weights loaded\n",
      "Calculating Accuracy for RNN model after 60 epochs\n",
      "model architecture loaded and compiled\n",
      "model weights loaded\n",
      "Calculating Accuracy for RNN model after 61 epochs\n",
      "model architecture loaded and compiled\n",
      "model weights loaded\n"
     ]
    }
   ],
   "source": [
    "Accuracy = {}\n",
    "idx = 1\n",
    "\n",
    "for file in sorted(Path(os.getcwd()).iterdir(), key=os.path.getmtime):\n",
    "    true_positive = 0\n",
    "    true_negative = 0\n",
    "    false_positive = 0\n",
    "    false_negative = 0\n",
    "    if file.suffix==\".h5\":\n",
    "        print(f\"Calculating Accuracy for RNN model after {idx} epochs\")\n",
    "        model = make_model(input_shape=image_size + (3,), num_classes=2)\n",
    "        model.compile(\n",
    "            optimizer=keras.optimizers.Adam(1e-3),\n",
    "            loss=\"binary_crossentropy\",\n",
    "            metrics=[\"accuracy\"]\n",
    "        )\n",
    "        print(\"model architecture loaded and compiled\")\n",
    "        model.load_weights(file)\n",
    "        print(\"model weights loaded\")\n",
    "        for image, label in val_ds:\n",
    "            prediction = model.predict(image)\n",
    "            score = prediction[0]\n",
    "            if score >= 0.5 and int(label[0])==1: \n",
    "                true_negative+=1\n",
    "            if score <= 0.5 and int(label[0])==1:\n",
    "                false_positive+=1\n",
    "            if score >= 0.5 and int(label[0])==0: \n",
    "                false_negative+=1\n",
    "            else:\n",
    "                true_positive+=1\n",
    "        total = true_negative+false_positive+false_negative+true_positive\n",
    "        Accuracy[idx]=[true_negative/total,false_positive/total,false_negative/total,true_positive/total]\n",
    "        idx+=1"
   ]
  },
  {
   "cell_type": "code",
   "execution_count": 23,
   "metadata": {},
   "outputs": [],
   "source": [
    "FN = []\n",
    "Precision = []\n",
    "Recall = []\n",
    "F1 = []\n",
    "#Accuracy[idx]=[true_negative/total,false_positive/total,false_negative/total,true_positive/total]\n",
    "for idx in Accuracy:\n",
    "    FN.append(Accuracy[idx][2])\n",
    "    Precision.append(Accuracy[idx][3]/(Accuracy[idx][3]+Accuracy[idx][1]))\n",
    "    Recall.append(Accuracy[idx][3]/(Accuracy[idx][3]+Accuracy[idx][2]))\n",
    "    F1.append(2*(Precision[idx-1]*Recall[idx-1])/(Precision[idx-1]+Recall[idx-1]))"
   ]
  },
  {
   "cell_type": "code",
   "execution_count": 34,
   "metadata": {},
   "outputs": [
    {
     "data": {
      "image/png": "[encoded data removed]",
      "text/plain": [
       "<Figure size 1440x720 with 1 Axes>"
      ]
     },
     "metadata": {
      "needs_background": "light"
     },
     "output_type": "display_data"
    }
   ],
   "source": [
    "fig, ax = plt.subplots(figsize=(20,10))\n",
    "ax.plot(FN, label=\"False Negatives\")\n",
    "ax.plot(Precision, label=\"Precision\")\n",
    "ax.plot(Recall, label=\"Recall\")\n",
    "ax.plot(F1, label=\"F1\")\n",
    "ax.legend()\n",
    "plt.show()"
   ]
  },
  {
   "cell_type": "code",
   "execution_count": 37,
   "metadata": {},
   "outputs": [
    {
     "data": {
      "text/plain": [
       "27"
      ]
     },
     "execution_count": 37,
     "metadata": {},
     "output_type": "execute_result"
    }
   ],
   "source": [
    "len(FN[:20])+np.argmin(FN[20:])"
   ]
  },
  {
   "cell_type": "code",
   "execution_count": 5,
   "metadata": {},
   "outputs": [],
   "source": [
    "model = make_model(input_shape=image_size + (3,), num_classes=2)\n",
    "model.compile(\n",
    "            optimizer=keras.optimizers.Adam(1e-3),\n",
    "            loss=\"binary_crossentropy\",\n",
    "            metrics=[\"accuracy\"]\n",
    "        )\n",
    "model.load_weights(\"save_at_27.h5\")"
   ]
  },
  {
   "cell_type": "code",
   "execution_count": 6,
   "metadata": {
    "scrolled": false
   },
   "outputs": [
    {
     "name": "stdout",
     "output_type": "stream",
     "text": [
      "Model: \"functional_3\"\n",
      "__________________________________________________________________________________________________\n",
      "Layer (type)                    Output Shape         Param #     Connected to                     \n",
      "==================================================================================================\n",
      "input_2 (InputLayer)            [(None, 256, 256, 3) 0                                            \n",
      "__________________________________________________________________________________________________\n",
      "rescaling_1 (Rescaling)         (None, 256, 256, 3)  0           input_2[0][0]                    \n",
      "__________________________________________________________________________________________________\n",
      "conv2d_6 (Conv2D)               (None, 128, 128, 32) 896         rescaling_1[0][0]                \n",
      "__________________________________________________________________________________________________\n",
      "batch_normalization_11 (BatchNo (None, 128, 128, 32) 128         conv2d_6[0][0]                   \n",
      "__________________________________________________________________________________________________\n",
      "activation_11 (Activation)      (None, 128, 128, 32) 0           batch_normalization_11[0][0]     \n",
      "__________________________________________________________________________________________________\n",
      "conv2d_7 (Conv2D)               (None, 128, 128, 64) 18496       activation_11[0][0]              \n",
      "__________________________________________________________________________________________________\n",
      "batch_normalization_12 (BatchNo (None, 128, 128, 64) 256         conv2d_7[0][0]                   \n",
      "__________________________________________________________________________________________________\n",
      "activation_12 (Activation)      (None, 128, 128, 64) 0           batch_normalization_12[0][0]     \n",
      "__________________________________________________________________________________________________\n",
      "separable_conv2d_9 (SeparableCo (None, 128, 128, 32) 2656        activation_12[0][0]              \n",
      "__________________________________________________________________________________________________\n",
      "batch_normalization_13 (BatchNo (None, 128, 128, 32) 128         separable_conv2d_9[0][0]         \n",
      "__________________________________________________________________________________________________\n",
      "activation_13 (Activation)      (None, 128, 128, 32) 0           batch_normalization_13[0][0]     \n",
      "__________________________________________________________________________________________________\n",
      "separable_conv2d_10 (SeparableC (None, 128, 128, 32) 1344        activation_13[0][0]              \n",
      "__________________________________________________________________________________________________\n",
      "batch_normalization_14 (BatchNo (None, 128, 128, 32) 128         separable_conv2d_10[0][0]        \n",
      "__________________________________________________________________________________________________\n",
      "activation_14 (Activation)      (None, 128, 128, 32) 0           batch_normalization_14[0][0]     \n",
      "__________________________________________________________________________________________________\n",
      "max_pooling2d_4 (MaxPooling2D)  (None, 64, 64, 32)   0           activation_14[0][0]              \n",
      "__________________________________________________________________________________________________\n",
      "conv2d_8 (Conv2D)               (None, 64, 64, 32)   2080        activation_12[0][0]              \n",
      "__________________________________________________________________________________________________\n",
      "add_4 (Add)                     (None, 64, 64, 32)   0           max_pooling2d_4[0][0]            \n",
      "                                                                 conv2d_8[0][0]                   \n",
      "__________________________________________________________________________________________________\n",
      "separable_conv2d_11 (SeparableC (None, 64, 64, 64)   2400        add_4[0][0]                      \n",
      "__________________________________________________________________________________________________\n",
      "batch_normalization_15 (BatchNo (None, 64, 64, 64)   256         separable_conv2d_11[0][0]        \n",
      "__________________________________________________________________________________________________\n",
      "activation_15 (Activation)      (None, 64, 64, 64)   0           batch_normalization_15[0][0]     \n",
      "__________________________________________________________________________________________________\n",
      "separable_conv2d_12 (SeparableC (None, 64, 64, 64)   4736        activation_15[0][0]              \n",
      "__________________________________________________________________________________________________\n",
      "batch_normalization_16 (BatchNo (None, 64, 64, 64)   256         separable_conv2d_12[0][0]        \n",
      "__________________________________________________________________________________________________\n",
      "activation_16 (Activation)      (None, 64, 64, 64)   0           batch_normalization_16[0][0]     \n",
      "__________________________________________________________________________________________________\n",
      "max_pooling2d_5 (MaxPooling2D)  (None, 32, 32, 64)   0           activation_16[0][0]              \n",
      "__________________________________________________________________________________________________\n",
      "conv2d_9 (Conv2D)               (None, 32, 32, 64)   2112        add_4[0][0]                      \n",
      "__________________________________________________________________________________________________\n",
      "add_5 (Add)                     (None, 32, 32, 64)   0           max_pooling2d_5[0][0]            \n",
      "                                                                 conv2d_9[0][0]                   \n",
      "__________________________________________________________________________________________________\n",
      "separable_conv2d_13 (SeparableC (None, 32, 32, 128)  8896        add_5[0][0]                      \n",
      "__________________________________________________________________________________________________\n",
      "batch_normalization_17 (BatchNo (None, 32, 32, 128)  512         separable_conv2d_13[0][0]        \n",
      "__________________________________________________________________________________________________\n",
      "activation_17 (Activation)      (None, 32, 32, 128)  0           batch_normalization_17[0][0]     \n",
      "__________________________________________________________________________________________________\n",
      "separable_conv2d_14 (SeparableC (None, 32, 32, 128)  17664       activation_17[0][0]              \n",
      "__________________________________________________________________________________________________\n",
      "batch_normalization_18 (BatchNo (None, 32, 32, 128)  512         separable_conv2d_14[0][0]        \n",
      "__________________________________________________________________________________________________\n",
      "activation_18 (Activation)      (None, 32, 32, 128)  0           batch_normalization_18[0][0]     \n",
      "__________________________________________________________________________________________________\n",
      "max_pooling2d_6 (MaxPooling2D)  (None, 16, 16, 128)  0           activation_18[0][0]              \n",
      "__________________________________________________________________________________________________\n",
      "conv2d_10 (Conv2D)              (None, 16, 16, 128)  8320        add_5[0][0]                      \n",
      "__________________________________________________________________________________________________\n",
      "add_6 (Add)                     (None, 16, 16, 128)  0           max_pooling2d_6[0][0]            \n",
      "                                                                 conv2d_10[0][0]                  \n",
      "__________________________________________________________________________________________________\n",
      "separable_conv2d_15 (SeparableC (None, 16, 16, 256)  34176       add_6[0][0]                      \n",
      "__________________________________________________________________________________________________\n",
      "batch_normalization_19 (BatchNo (None, 16, 16, 256)  1024        separable_conv2d_15[0][0]        \n",
      "__________________________________________________________________________________________________\n",
      "activation_19 (Activation)      (None, 16, 16, 256)  0           batch_normalization_19[0][0]     \n",
      "__________________________________________________________________________________________________\n",
      "separable_conv2d_16 (SeparableC (None, 16, 16, 256)  68096       activation_19[0][0]              \n",
      "__________________________________________________________________________________________________\n",
      "batch_normalization_20 (BatchNo (None, 16, 16, 256)  1024        separable_conv2d_16[0][0]        \n",
      "__________________________________________________________________________________________________\n",
      "activation_20 (Activation)      (None, 16, 16, 256)  0           batch_normalization_20[0][0]     \n",
      "__________________________________________________________________________________________________\n",
      "max_pooling2d_7 (MaxPooling2D)  (None, 8, 8, 256)    0           activation_20[0][0]              \n",
      "__________________________________________________________________________________________________\n",
      "conv2d_11 (Conv2D)              (None, 8, 8, 256)    33024       add_6[0][0]                      \n",
      "__________________________________________________________________________________________________\n",
      "add_7 (Add)                     (None, 8, 8, 256)    0           max_pooling2d_7[0][0]            \n",
      "                                                                 conv2d_11[0][0]                  \n",
      "__________________________________________________________________________________________________\n",
      "separable_conv2d_17 (SeparableC (None, 8, 8, 128)    35200       add_7[0][0]                      \n",
      "__________________________________________________________________________________________________\n",
      "batch_normalization_21 (BatchNo (None, 8, 8, 128)    512         separable_conv2d_17[0][0]        \n",
      "__________________________________________________________________________________________________\n",
      "activation_21 (Activation)      (None, 8, 8, 128)    0           batch_normalization_21[0][0]     \n",
      "__________________________________________________________________________________________________\n",
      "global_average_pooling2d_1 (Glo (None, 128)          0           activation_21[0][0]              \n",
      "__________________________________________________________________________________________________\n",
      "dropout_1 (Dropout)             (None, 128)          0           global_average_pooling2d_1[0][0] \n",
      "__________________________________________________________________________________________________\n",
      "dense_1 (Dense)                 (None, 1)            129         dropout_1[0][0]                  \n",
      "==================================================================================================\n",
      "Total params: 244,961\n",
      "Trainable params: 242,593\n",
      "Non-trainable params: 2,368\n",
      "__________________________________________________________________________________________________\n"
     ]
    }
   ],
   "source": [
    "model.summary(line_length=None, positions=None, print_fn=None)"
   ]
  },
  {
   "cell_type": "markdown",
   "metadata": {},
   "source": [
    "## 3. Downloading a Test Dataset"
   ]
  },
  {
   "cell_type": "code",
   "execution_count": 38,
   "metadata": {
    "scrolled": false
   },
   "outputs": [
    {
     "name": "stdout",
     "output_type": "stream",
     "text": [
      "{'retrieve tag id': \"SELECT id FROM new_tags WHERE name IN ('explicit','grotesque','questionable');\"}\n",
      "COPY (SELECT id, image_format, version_path FROM new_images WHERE id IN (SELECT image_id FROM new_image_taggings WHERE tag_id IN ('39068','29300','26707')) ORDER BY RANDOM() LIMIT 1500) TO 'D:/repositories/MLpy/data_dump/datasets/ds_test/test_data/39068_29300_26707.csv' DELIMITER '|' CSV;\n",
      "{'retrieve tag id': \"SELECT id FROM new_tags WHERE name IN ('safe');\"}\n",
      "COPY (SELECT id, image_format, version_path FROM new_images WHERE id IN (SELECT image_id FROM new_image_taggings WHERE tag_id IN ('40482')) ORDER BY RANDOM() LIMIT 1500) TO 'D:/repositories/MLpy/data_dump/datasets/ds_test/test_data/40482.csv' DELIMITER '|' CSV;\n"
     ]
    }
   ],
   "source": [
    "target_database_folder = \"D:/repositories/MLpy/data_dump/datasets/ds_test/test_data/\"\n",
    "if not os.path.exists(target_database_folder): os.makedirs(target_database_folder)\n",
    "    \n",
    "class1_tags = [\"explicit\",\"grotesque\",\"questionable\"]\n",
    "class2_tags = [\"safe\"]\n",
    "\n",
    "path_class1 = create_dataset_csv(class1_tags, 1500, target_database_folder)\n",
    "path_class2 = create_dataset_csv(class2_tags, 1500, target_database_folder)"
   ]
  },
  {
   "cell_type": "code",
   "execution_count": 39,
   "metadata": {},
   "outputs": [
    {
     "data": {
      "text/plain": [
       "'D:/repositories/MLpy/data_dump/datasets/ds_test/test_data/39068_29300_26707'"
      ]
     },
     "execution_count": 39,
     "metadata": {},
     "output_type": "execute_result"
    }
   ],
   "source": [
    "path_class1"
   ]
  },
  {
   "cell_type": "code",
   "execution_count": 40,
   "metadata": {
    "scrolled": true
   },
   "outputs": [
    {
     "name": "stdout",
     "output_type": "stream",
     "text": [
      "#100 sent - #91 image downloaded - #9 errors caught so far.\n",
      "#200 sent - #175 image downloaded - #25 errors caught so far.\n",
      "#300 sent - #258 image downloaded - #42 errors caught so far.\n",
      "#400 sent - #345 image downloaded - #55 errors caught so far.\n",
      "#500 sent - #427 image downloaded - #73 errors caught so far.\n",
      "#600 sent - #513 image downloaded - #87 errors caught so far.\n",
      "#700 sent - #602 image downloaded - #98 errors caught so far.\n",
      "#800 sent - #693 image downloaded - #107 errors caught so far.\n",
      "#900 sent - #781 image downloaded - #119 errors caught so far.\n",
      "#1000 sent - #872 image downloaded - #128 errors caught so far.\n",
      "#1100 sent - #963 image downloaded - #137 errors caught so far.\n",
      "#1200 sent - #1051 image downloaded - #149 errors caught so far.\n",
      "#1300 sent - #1137 image downloaded - #163 errors caught so far.\n",
      "#1400 sent - #1224 image downloaded - #176 errors caught so far.\n",
      "#1500 sent - #1310 image downloaded - #190 errors caught so far.\n",
      "#1500 sent - #1310 image downloaded - #190 errors caught so far.\n"
     ]
    }
   ],
   "source": [
    "download_images(target_database_folder, path_class1)"
   ]
  },
  {
   "cell_type": "code",
   "execution_count": 41,
   "metadata": {
    "scrolled": true
   },
   "outputs": [
    {
     "name": "stdout",
     "output_type": "stream",
     "text": [
      "#100 sent - #86 image downloaded - #14 errors caught so far.\n",
      "#200 sent - #175 image downloaded - #25 errors caught so far.\n",
      "#300 sent - #265 image downloaded - #35 errors caught so far.\n",
      "#400 sent - #352 image downloaded - #48 errors caught so far.\n",
      "#500 sent - #440 image downloaded - #60 errors caught so far.\n",
      "#600 sent - #531 image downloaded - #69 errors caught so far.\n",
      "#700 sent - #618 image downloaded - #82 errors caught so far.\n",
      "#800 sent - #708 image downloaded - #92 errors caught so far.\n",
      "#900 sent - #799 image downloaded - #101 errors caught so far.\n",
      "#1000 sent - #880 image downloaded - #120 errors caught so far.\n",
      "#1100 sent - #972 image downloaded - #128 errors caught so far.\n",
      "#1200 sent - #1064 image downloaded - #136 errors caught so far.\n",
      "#1300 sent - #1156 image downloaded - #144 errors caught so far.\n",
      "#1400 sent - #1243 image downloaded - #157 errors caught so far.\n",
      "#1500 sent - #1333 image downloaded - #167 errors caught so far.\n",
      "#1500 sent - #1333 image downloaded - #167 errors caught so far.\n"
     ]
    }
   ],
   "source": [
    "download_images(target_database_folder, path_class2)"
   ]
  },
  {
   "cell_type": "code",
   "execution_count": 42,
   "metadata": {
    "scrolled": false
   },
   "outputs": [],
   "source": [
    "def remove_duplicates(folder, class_numbers):\n",
    "    for file in os.listdir(folder):\n",
    "        if os.path.exists(\"D:/repositories/MLpy/data_dump/datasets/ds_test/\"+class_numbers+\"/\"+file):\n",
    "            os.remove(folder+\"/\"+file)\n",
    "            print(f\"{class_numbers+'/'+file} removed\")"
   ]
  },
  {
   "cell_type": "code",
   "execution_count": 45,
   "metadata": {
    "scrolled": true
   },
   "outputs": [
    {
     "name": "stdout",
     "output_type": "stream",
     "text": [
      "39068_29300_26707/1020156.png removed\n",
      "39068_29300_26707/1027196.jpg removed\n",
      "39068_29300_26707/1096889.jpg removed\n",
      "39068_29300_26707/1097465.jpg removed\n",
      "39068_29300_26707/1099106.jpg removed\n",
      "39068_29300_26707/1104629.png removed\n",
      "39068_29300_26707/1114061.png removed\n",
      "39068_29300_26707/1114808.png removed\n",
      "39068_29300_26707/1145256.png removed\n",
      "39068_29300_26707/1152498.png removed\n",
      "39068_29300_26707/1166592.png removed\n",
      "39068_29300_26707/118155.jpg removed\n",
      "39068_29300_26707/1186053.jpg removed\n",
      "39068_29300_26707/1195540.PNG removed\n",
      "39068_29300_26707/1206955.PNG removed\n",
      "39068_29300_26707/1208727.JPEG removed\n",
      "39068_29300_26707/1209135.PNG removed\n",
      "39068_29300_26707/1222112.JPEG removed\n",
      "39068_29300_26707/1234387.JPEG removed\n",
      "39068_29300_26707/1235913.PNG removed\n",
      "39068_29300_26707/1252234.JPEG removed\n",
      "39068_29300_26707/1306659.PNG removed\n",
      "39068_29300_26707/1333744.PNG removed\n",
      "39068_29300_26707/1346450.PNG removed\n",
      "39068_29300_26707/1348251.PNG removed\n",
      "39068_29300_26707/1360401.PNG removed\n",
      "39068_29300_26707/1369283.PNG removed\n",
      "39068_29300_26707/1387457.PNG removed\n",
      "39068_29300_26707/1439442.PNG removed\n",
      "39068_29300_26707/1479914.PNG removed\n",
      "39068_29300_26707/148899.png removed\n",
      "39068_29300_26707/1493933.JPEG removed\n",
      "39068_29300_26707/1499454.PNG removed\n",
      "39068_29300_26707/1522850.PNG removed\n",
      "39068_29300_26707/1582725.PNG removed\n",
      "39068_29300_26707/1584769.PNG removed\n",
      "39068_29300_26707/1597979.PNG removed\n",
      "39068_29300_26707/1631723.PNG removed\n",
      "39068_29300_26707/1635233.PNG removed\n",
      "39068_29300_26707/1639064.JPEG removed\n",
      "39068_29300_26707/1643008.PNG removed\n",
      "39068_29300_26707/16984.png removed\n",
      "39068_29300_26707/1711417.JPEG removed\n",
      "39068_29300_26707/1715815.PNG removed\n",
      "39068_29300_26707/1717083.PNG removed\n",
      "39068_29300_26707/1720147.PNG removed\n",
      "39068_29300_26707/1720945.PNG removed\n",
      "39068_29300_26707/1748675.PNG removed\n",
      "39068_29300_26707/1757048.PNG removed\n",
      "39068_29300_26707/1759433.PNG removed\n",
      "39068_29300_26707/1769315.PNG removed\n",
      "39068_29300_26707/177038.jpg removed\n",
      "39068_29300_26707/1785116.PNG removed\n",
      "39068_29300_26707/1793989.PNG removed\n",
      "39068_29300_26707/1797174.PNG removed\n",
      "39068_29300_26707/1848649.PNG removed\n",
      "39068_29300_26707/1848843.PNG removed\n",
      "39068_29300_26707/1849936.JPEG removed\n",
      "39068_29300_26707/1856382.PNG removed\n",
      "39068_29300_26707/1868294.PNG removed\n",
      "39068_29300_26707/1869546.PNG removed\n",
      "39068_29300_26707/1877793.PNG removed\n",
      "39068_29300_26707/1888241.png removed\n",
      "39068_29300_26707/1909107.png removed\n",
      "39068_29300_26707/1947937.png removed\n",
      "39068_29300_26707/1963813.png removed\n",
      "39068_29300_26707/1974803.png removed\n",
      "39068_29300_26707/1980516.jpeg removed\n",
      "39068_29300_26707/1992131.png removed\n",
      "39068_29300_26707/1996792.jpeg removed\n",
      "39068_29300_26707/1998993.png removed\n",
      "39068_29300_26707/2041075.png removed\n",
      "39068_29300_26707/2063500.png removed\n",
      "39068_29300_26707/206439.png removed\n",
      "39068_29300_26707/2067110.png removed\n",
      "39068_29300_26707/2077597.png removed\n",
      "39068_29300_26707/2079771.png removed\n",
      "39068_29300_26707/2102962.png removed\n",
      "39068_29300_26707/2126042.jpeg removed\n",
      "39068_29300_26707/2141536.jpeg removed\n",
      "39068_29300_26707/2142905.png removed\n",
      "39068_29300_26707/2150497.png removed\n",
      "39068_29300_26707/2151380.png removed\n",
      "39068_29300_26707/2157179.png removed\n",
      "39068_29300_26707/2161879.png removed\n",
      "39068_29300_26707/2162881.jpeg removed\n",
      "39068_29300_26707/2191001.png removed\n",
      "39068_29300_26707/2196203.png removed\n",
      "39068_29300_26707/2204270.png removed\n",
      "39068_29300_26707/2206523.png removed\n",
      "39068_29300_26707/2213689.png removed\n",
      "39068_29300_26707/2242548.png removed\n",
      "39068_29300_26707/2246427.png removed\n",
      "39068_29300_26707/2251132.png removed\n",
      "39068_29300_26707/2267440.jpg removed\n",
      "39068_29300_26707/2269753.png removed\n",
      "39068_29300_26707/2271531.png removed\n",
      "39068_29300_26707/2282215.png removed\n",
      "39068_29300_26707/2292506.png removed\n",
      "39068_29300_26707/2294459.jpg removed\n",
      "39068_29300_26707/2300121.png removed\n",
      "39068_29300_26707/2300971.png removed\n",
      "39068_29300_26707/2306639.jpg removed\n",
      "39068_29300_26707/2312693.jpg removed\n",
      "39068_29300_26707/2337674.png removed\n",
      "39068_29300_26707/2337686.png removed\n",
      "39068_29300_26707/2347625.png removed\n",
      "39068_29300_26707/2362168.png removed\n",
      "39068_29300_26707/2368190.jpg removed\n",
      "39068_29300_26707/2372948.png removed\n",
      "39068_29300_26707/2425538.png removed\n",
      "39068_29300_26707/2443483.jpg removed\n",
      "39068_29300_26707/2448409.jpg removed\n",
      "39068_29300_26707/246140.png removed\n",
      "39068_29300_26707/246722.png removed\n",
      "39068_29300_26707/2474974.png removed\n",
      "39068_29300_26707/276053.jpg removed\n",
      "39068_29300_26707/287274.jpg removed\n",
      "39068_29300_26707/294944.jpeg removed\n",
      "39068_29300_26707/307481.png removed\n",
      "39068_29300_26707/353374.jpeg removed\n",
      "39068_29300_26707/383022.png removed\n",
      "39068_29300_26707/435103.jpg removed\n",
      "39068_29300_26707/460937.jpg removed\n",
      "39068_29300_26707/503989.jpeg removed\n",
      "39068_29300_26707/506312.PNG removed\n",
      "39068_29300_26707/563601.jpeg removed\n",
      "39068_29300_26707/580579.png removed\n",
      "39068_29300_26707/608652.jpg removed\n",
      "39068_29300_26707/623263.jpeg removed\n",
      "39068_29300_26707/661126.jpeg removed\n",
      "39068_29300_26707/665159.png removed\n",
      "39068_29300_26707/702862.png removed\n",
      "39068_29300_26707/734589.jpg removed\n",
      "39068_29300_26707/741143.png removed\n",
      "39068_29300_26707/745847.png removed\n",
      "39068_29300_26707/746117.png removed\n",
      "39068_29300_26707/746690.png removed\n",
      "39068_29300_26707/770511.jpg removed\n",
      "39068_29300_26707/781471.png removed\n",
      "39068_29300_26707/821281.png removed\n",
      "39068_29300_26707/82143.png removed\n",
      "39068_29300_26707/822941.png removed\n",
      "39068_29300_26707/855680.jpg removed\n",
      "39068_29300_26707/874065.png removed\n",
      "39068_29300_26707/879314.png removed\n",
      "39068_29300_26707/917303.jpeg removed\n",
      "39068_29300_26707/920856.jpg removed\n",
      "39068_29300_26707/926325.jpeg removed\n",
      "39068_29300_26707/92644.jpg removed\n",
      "39068_29300_26707/926475.jpeg removed\n",
      "39068_29300_26707/927337.png removed\n",
      "39068_29300_26707/935311.png removed\n",
      "39068_29300_26707/938375.png removed\n",
      "39068_29300_26707/948869.png removed\n",
      "39068_29300_26707/969176.png removed\n",
      "39068_29300_26707/982060.png removed\n"
     ]
    }
   ],
   "source": [
    "remove_duplicates(path_class1, \"39068_29300_26707\")"
   ]
  },
  {
   "cell_type": "code",
   "execution_count": 46,
   "metadata": {
    "scrolled": true
   },
   "outputs": [
    {
     "name": "stdout",
     "output_type": "stream",
     "text": [
      "40482/1109066.png removed\n",
      "40482/1124673.jpg removed\n",
      "40482/1126792.jpeg removed\n",
      "40482/1160068.jpeg removed\n",
      "40482/1287131.JPEG removed\n",
      "40482/1339713.PNG removed\n",
      "40482/1369269.PNG removed\n",
      "40482/1418806.JPEG removed\n",
      "40482/1428616.JPEG removed\n",
      "40482/1457386.PNG removed\n",
      "40482/1503222.JPEG removed\n",
      "40482/1709266.JPEG removed\n",
      "40482/1736031.PNG removed\n",
      "40482/1736903.JPEG removed\n",
      "40482/1778369.PNG removed\n",
      "40482/1820170.JPEG removed\n",
      "40482/1824689.PNG removed\n",
      "40482/2003558.png removed\n",
      "40482/2005472.jpeg removed\n",
      "40482/2117120.png removed\n",
      "40482/2165403.png removed\n",
      "40482/2189380.jpeg removed\n",
      "40482/2199149.png removed\n",
      "40482/2389422.png removed\n",
      "40482/2389538.png removed\n",
      "40482/2434461.png removed\n",
      "40482/2461765.jpg removed\n",
      "40482/26850.png removed\n",
      "40482/286675.jpg removed\n",
      "40482/305468.png removed\n",
      "40482/44156.png removed\n",
      "40482/497705.png removed\n",
      "40482/517920.png removed\n",
      "40482/548225.png removed\n",
      "40482/589521.jpeg removed\n",
      "40482/656432.png removed\n",
      "40482/705757.png removed\n",
      "40482/752035.jpg removed\n",
      "40482/763793.jpeg removed\n",
      "40482/803782.png removed\n",
      "40482/804950.png removed\n",
      "40482/846606.png removed\n",
      "40482/940484.png removed\n"
     ]
    }
   ],
   "source": [
    "remove_duplicates(path_class2, \"40482\")"
   ]
  },
  {
   "cell_type": "markdown",
   "metadata": {},
   "source": [
    "## 4. Testing the new dataset"
   ]
  },
  {
   "cell_type": "code",
   "execution_count": 39,
   "metadata": {},
   "outputs": [],
   "source": [
    "def testing_a_new_dataset(path_class0, path_class1):\n",
    "    Accuracy = []\n",
    "    FN = []\n",
    "    Precision = []\n",
    "    Recall = []\n",
    "    F1 = []\n",
    "\n",
    "    idx = 0\n",
    "    for trained_model in sorted(Path(os.getcwd()).iterdir(), key=os.path.getmtime):\n",
    "        if trained_model.suffix==\".h5\":\n",
    "            true_positive = 0\n",
    "            true_negative = 0\n",
    "            false_positive = 0\n",
    "            false_negative = 0\n",
    "            model = make_model(input_shape=image_size + (3,), num_classes=2)\n",
    "            model.compile(optimizer=keras.optimizers.Adam(1e-3),\n",
    "                          loss=\"binary_crossentropy\",\n",
    "                          metrics=[\"accuracy\"])\n",
    "            model.load_weights(trained_model)\n",
    "            for image in os.listdir(path_class0):\n",
    "                img = keras.preprocessing.image.load_img(path_class0+image, target_size=image_size)\n",
    "                img_array = keras.preprocessing.image.img_to_array(img)\n",
    "                img_array = tf.expand_dims(img_array, 0)\n",
    "                prediction = model.predict(img_array)\n",
    "                score = prediction[0]\n",
    "                if score >= 0.5:false_negative+=1\n",
    "                else: true_positive+=1\n",
    "            for image in os.listdir(path_class1):\n",
    "                img = keras.preprocessing.image.load_img(path_class1+image, target_size=image_size)\n",
    "                img_array = keras.preprocessing.image.img_to_array(img)\n",
    "                img_array = tf.expand_dims(img_array, 0)\n",
    "                prediction = model.predict(img_array)\n",
    "                score = prediction[0]\n",
    "                if score >= 0.5: true_negative+=1\n",
    "                else: false_positive+=1\n",
    "            total = true_negative+false_positive+false_negative+true_positive\n",
    "            Accuracy_val = (true_negative+true_positive)/total\n",
    "            Accuracy.append(Accuracy_val)\n",
    "            FN_val = false_negative/total\n",
    "            FN.append(FN_val)\n",
    "            Precision_val = true_positive/(true_positive+false_positive)\n",
    "            Precision.append(Precision_val)\n",
    "            Recall_val = true_positive/(true_positive+false_negative)\n",
    "            Recall.append(Recall_val)\n",
    "            F1_val = (2*true_positive)/(2*true_positive+false_positive+false_negative)\n",
    "            F1.append(F1_val)\n",
    "            print(f\"Model's performance after {idx+1} epoch(s): Accuracy: {round(Accuracy_val,4)}, \"+\n",
    "                  f\"False Negative: {round(FN_val,4)}, \" + \n",
    "                  f\"Precision: {round(Precision_val,4)}, \" + \n",
    "                  f\"Recall: {round(Recall_val,4)}, \" + \n",
    "                  f\"F1: {round(F1_val,4)}\")\n",
    "            idx+=1\n",
    "    return Accuracy, FN, Precision, Recall, F1"
   ]
  },
  {
   "cell_type": "code",
   "execution_count": 40,
   "metadata": {},
   "outputs": [
    {
     "name": "stdout",
     "output_type": "stream",
     "text": [
      "Model's performance after 1 epoch(s): Accuracy: 0.6738, False Negative: 0.2059, Precision: 0.6886, Recall: 0.5637, F1: 0.6199\n",
      "Model's performance after 2 epoch(s): Accuracy: 0.6189, False Negative: 0.3668, Precision: 0.8801, Recall: 0.2229, F1: 0.3557\n",
      "Model's performance after 3 epoch(s): Accuracy: 0.7298, False Negative: 0.1523, Precision: 0.7306, Recall: 0.6774, F1: 0.703\n",
      "Model's performance after 4 epoch(s): Accuracy: 0.6922, False Negative: 0.2738, Precision: 0.8536, Recall: 0.4198, F1: 0.5628\n",
      "Model's performance after 5 epoch(s): Accuracy: 0.738, False Negative: 0.1519, Precision: 0.7441, Recall: 0.6782, F1: 0.7096\n",
      "Model's performance after 6 epoch(s): Accuracy: 0.7483, False Negative: 0.1703, Precision: 0.7874, Recall: 0.6392, F1: 0.7056\n",
      "Model's performance after 7 epoch(s): Accuracy: 0.6815, False Negative: 0.3045, Precision: 0.9233, Recall: 0.3547, F1: 0.5125\n",
      "Model's performance after 8 epoch(s): Accuracy: 0.7274, False Negative: 0.1277, Precision: 0.7038, Recall: 0.7294, F1: 0.7164\n",
      "Model's performance after 9 epoch(s): Accuracy: 0.6922, False Negative: 0.262, Precision: 0.8208, Recall: 0.4449, F1: 0.5771\n",
      "Model's performance after 10 epoch(s): Accuracy: 0.7499, False Negative: 0.1154, Precision: 0.7258, Recall: 0.7554, F1: 0.7403\n",
      "Model's performance after 11 epoch(s): Accuracy: 0.7589, False Negative: 0.1461, Precision: 0.7743, Recall: 0.6904, F1: 0.7299\n",
      "Model's performance after 12 epoch(s): Accuracy: 0.7536, False Negative: 0.1322, Precision: 0.7484, Recall: 0.7199, F1: 0.7339\n",
      "Model's performance after 13 epoch(s): Accuracy: 0.7511, False Negative: 0.1989, Precision: 0.8454, Recall: 0.5785, F1: 0.6869\n",
      "Model's performance after 14 epoch(s): Accuracy: 0.7634, False Negative: 0.1191, Precision: 0.7502, Recall: 0.7476, F1: 0.7489\n",
      "Model's performance after 15 epoch(s): Accuracy: 0.7536, False Negative: 0.1936, Precision: 0.8405, Recall: 0.5898, F1: 0.6932\n",
      "Model's performance after 16 epoch(s): Accuracy: 0.763, False Negative: 0.156, Precision: 0.7959, Recall: 0.6696, F1: 0.7273\n",
      "Model's performance after 17 epoch(s): Accuracy: 0.7519, False Negative: 0.1838, Precision: 0.8177, Recall: 0.6106, F1: 0.6991\n",
      "Model's performance after 18 epoch(s): Accuracy: 0.7593, False Negative: 0.1171, Precision: 0.7417, Recall: 0.752, F1: 0.7468\n",
      "Model's performance after 19 epoch(s): Accuracy: 0.7581, False Negative: 0.1617, Precision: 0.7945, Recall: 0.6574, F1: 0.7195\n",
      "Model's performance after 20 epoch(s): Accuracy: 0.7577, False Negative: 0.1777, Precision: 0.8198, Recall: 0.6236, F1: 0.7084\n",
      "Model's performance after 21 epoch(s): Accuracy: 0.7548, False Negative: 0.1596, Precision: 0.785, Recall: 0.6618, F1: 0.7181\n",
      "Model's performance after 22 epoch(s): Accuracy: 0.7466, False Negative: 0.1846, Precision: 0.8069, Recall: 0.6088, F1: 0.694\n",
      "Model's performance after 23 epoch(s): Accuracy: 0.7577, False Negative: 0.1727, Precision: 0.8113, Recall: 0.634, F1: 0.7118\n",
      "Model's performance after 24 epoch(s): Accuracy: 0.7605, False Negative: 0.2051, Precision: 0.8859, Recall: 0.5655, F1: 0.6903\n",
      "Model's performance after 25 epoch(s): Accuracy: 0.7708, False Negative: 0.1723, Precision: 0.8404, Recall: 0.6349, F1: 0.7233\n",
      "Model's performance after 26 epoch(s): Accuracy: 0.7433, False Negative: 0.2137, Precision: 0.8573, Recall: 0.5473, F1: 0.6681\n",
      "Model's performance after 27 epoch(s): Accuracy: 0.7479, False Negative: 0.2231, Precision: 0.8954, Recall: 0.5273, F1: 0.6638\n",
      "Model's performance after 28 epoch(s): Accuracy: 0.7695, False Negative: 0.1183, Precision: 0.7592, Recall: 0.7493, F1: 0.7543\n",
      "Model's performance after 29 epoch(s): Accuracy: 0.7401, False Negative: 0.226, Precision: 0.8787, Recall: 0.5212, F1: 0.6543\n",
      "Model's performance after 30 epoch(s): Accuracy: 0.7479, False Negative: 0.2251, Precision: 0.9013, Recall: 0.523, F1: 0.6619\n",
      "Model's performance after 31 epoch(s): Accuracy: 0.7728, False Negative: 0.1736, Precision: 0.8477, Recall: 0.6323, F1: 0.7243\n",
      "Model's performance after 32 epoch(s): Accuracy: 0.7728, False Negative: 0.1736, Precision: 0.8477, Recall: 0.6323, F1: 0.7243\n",
      "Model's performance after 33 epoch(s): Accuracy: 0.7511, False Negative: 0.2112, Precision: 0.8738, Recall: 0.5525, F1: 0.6769\n",
      "Model's performance after 34 epoch(s): Accuracy: 0.7708, False Negative: 0.1658, Precision: 0.8283, Recall: 0.6487, F1: 0.7276\n",
      "Model's performance after 35 epoch(s): Accuracy: 0.7871, False Negative: 0.1625, Precision: 0.8601, Recall: 0.6557, F1: 0.7441\n",
      "Model's performance after 36 epoch(s): Accuracy: 0.754, False Negative: 0.2026, Precision: 0.8613, Recall: 0.5707, F1: 0.6865\n",
      "Model's performance after 37 epoch(s): Accuracy: 0.7348, False Negative: 0.2485, Precision: 0.9302, Recall: 0.4735, F1: 0.6276\n",
      "Model's performance after 38 epoch(s): Accuracy: 0.7315, False Negative: 0.2501, Precision: 0.9233, Recall: 0.4701, F1: 0.623\n",
      "Model's performance after 39 epoch(s): Accuracy: 0.7724, False Negative: 0.1834, Precision: 0.8672, Recall: 0.6114, F1: 0.7172\n",
      "Model's performance after 40 epoch(s): Accuracy: 0.7544, False Negative: 0.2075, Precision: 0.8742, Recall: 0.5603, F1: 0.6829\n",
      "Model's performance after 41 epoch(s): Accuracy: 0.7495, False Negative: 0.2276, Precision: 0.9142, Recall: 0.5178, F1: 0.6611\n",
      "Model's performance after 42 epoch(s): Accuracy: 0.7519, False Negative: 0.2137, Precision: 0.8825, Recall: 0.5473, F1: 0.6756\n",
      "Model's performance after 43 epoch(s): Accuracy: 0.7204, False Negative: 0.2648, Precision: 0.9336, Recall: 0.4389, F1: 0.5971\n",
      "Model's performance after 44 epoch(s): Accuracy: 0.7499, False Negative: 0.2198, Precision: 0.8928, Recall: 0.5343, F1: 0.6685\n",
      "Model's performance after 45 epoch(s): Accuracy: 0.7487, False Negative: 0.1916, Precision: 0.8243, Recall: 0.5941, F1: 0.6905\n",
      "Model's performance after 46 epoch(s): Accuracy: 0.7765, False Negative: 0.1678, Precision: 0.8453, Recall: 0.6444, F1: 0.7313\n",
      "Model's performance after 47 epoch(s): Accuracy: 0.7863, False Negative: 0.156, Precision: 0.8456, Recall: 0.6696, F1: 0.7473\n",
      "Model's performance after 48 epoch(s): Accuracy: 0.7597, False Negative: 0.203, Precision: 0.8783, Recall: 0.5698, F1: 0.6912\n",
      "Model's performance after 49 epoch(s): Accuracy: 0.7511, False Negative: 0.2129, Precision: 0.8779, Recall: 0.549, F1: 0.6756\n",
      "Model's performance after 50 epoch(s): Accuracy: 0.7311, False Negative: 0.244, Precision: 0.9013, Recall: 0.4831, F1: 0.629\n",
      "Model's performance after 51 epoch(s): Accuracy: 0.7065, False Negative: 0.2779, Precision: 0.9258, Recall: 0.4111, F1: 0.5694\n",
      "Model's performance after 52 epoch(s): Accuracy: 0.7605, False Negative: 0.1907, Precision: 0.8524, Recall: 0.5958, F1: 0.7014\n",
      "Model's performance after 53 epoch(s): Accuracy: 0.7147, False Negative: 0.2718, Precision: 0.9368, Recall: 0.4241, F1: 0.5839\n",
      "Model's performance after 54 epoch(s): Accuracy: 0.7167, False Negative: 0.264, Precision: 0.9153, Recall: 0.4406, F1: 0.5948\n",
      "Model's performance after 55 epoch(s): Accuracy: 0.7417, False Negative: 0.2423, Precision: 0.935, Recall: 0.4866, F1: 0.64\n",
      "Model's performance after 56 epoch(s): Accuracy: 0.7302, False Negative: 0.2444, Precision: 0.8997, Recall: 0.4822, F1: 0.6279\n",
      "Model's performance after 57 epoch(s): Accuracy: 0.7438, False Negative: 0.2268, Precision: 0.8927, Recall: 0.5195, F1: 0.6568\n",
      "Model's performance after 58 epoch(s): Accuracy: 0.7364, False Negative: 0.2345, Precision: 0.8909, Recall: 0.503, F1: 0.643\n",
      "Model's performance after 59 epoch(s): Accuracy: 0.7458, False Negative: 0.1678, Precision: 0.7788, Recall: 0.6444, F1: 0.7053\n",
      "Model's performance after 60 epoch(s): Accuracy: 0.7311, False Negative: 0.2374, Precision: 0.8815, Recall: 0.497, F1: 0.6356\n",
      "Model's performance after 61 epoch(s): Accuracy: 0.7061, False Negative: 0.2808, Precision: 0.9359, Recall: 0.405, F1: 0.5654\n"
     ]
    }
   ],
   "source": [
    "Acc, FN, Pre, Rec, F1 = testing_a_new_dataset(\"D:/repositories/MLpy/data_dump/datasets/ds_test/test_data/39068_29300_26707/\",\n",
    "                     \"D:/repositories/MLpy/data_dump/datasets/ds_test/test_data/40482/\")"
   ]
  },
  {
   "cell_type": "code",
   "execution_count": 45,
   "metadata": {},
   "outputs": [
    {
     "name": "stdout",
     "output_type": "stream",
     "text": [
      "\n",
      "CSV String:\n",
      " None\n"
     ]
    }
   ],
   "source": [
    "df = pd.DataFrame({'Accuracy':Acc, 'False Negative':FN, 'Precision':Pre, 'Recall':Rec, 'F1':F1})\n",
    "csv_data = df.to_csv('test_results_2020_11_11.csv', index = True) \n",
    "print('\\nCSV String:\\n', csv_data) "
   ]
  }
 ],
 "metadata": {
  "kernelspec": {
   "display_name": "Python 3",
   "language": "python",
   "name": "python3"
  },
  "language_info": {
   "codemirror_mode": {
    "name": "ipython",
    "version": 3
   },
   "file_extension": ".py",
   "mimetype": "text/x-python",
   "name": "python",
   "nbconvert_exporter": "python",
   "pygments_lexer": "ipython3",
   "version": "3.8.3"
  }
 },
 "nbformat": 4,
 "nbformat_minor": 2
}

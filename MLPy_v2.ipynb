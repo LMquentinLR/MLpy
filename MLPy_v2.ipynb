{
 "cells": [
  {
   "cell_type": "markdown",
   "metadata": {},
   "source": [
    "# ML, MLP, MLPy!\n",
    "\n",
    "### Foreword\n",
    "\n",
    "> \"Moderating on Discord is _hard_.\"\n",
    ">\n",
    "> **t**. _A lot of moderators_\n",
    "\n",
    "Any moderation team on a Discord server can tell you that. Trolls, spammers, and all the highjinks involved are taxing on the people and most of all a day-long, year-round issue. Therefore, behold this fun project, with which I've meant to kill four birds:\n",
    "\n",
    "1. Improving my programming skills\n",
    "\n",
    "2. Learning Relational Databases\n",
    "\n",
    "3. Building a proof-of-work chatroom moderation bot\n",
    "\n",
    "4. Teaching myself some advanced machine learning techniques\n",
    "\n",
    "Let's see where this gets us!\n",
    "\n",
    "### Here be <span style=\"color:orange\">Warnings</span>!\n",
    "\n",
    "1. If you are interested in running this experiment on your own machine, you will not need to always rerun all the ``Code`` cells.\n",
    "\n",
    "> If you've run this whole notebook once, you will only have to run the cells with a warning tag in <b><span style=\"color:red\">red</span></b>.\n",
    "\n",
    "2. This work relies heavily, if not mostly, on the Derpi team for providing both their API and their Postrgres nightly data dump. Thanks to them! \n",
    "\n",
    "> As such, please respect their [licensing rules](https://www.derpibooru.org/pages/api), which this notebook tries to follow as best as possible."
   ]
  },
  {
   "cell_type": "markdown",
   "metadata": {},
   "source": [
    "## 1. Library Imports"
   ]
  },
  {
   "cell_type": "code",
   "execution_count": null,
   "metadata": {},
   "outputs": [],
   "source": []
  },
  {
   "cell_type": "markdown",
   "metadata": {},
   "source": [
    "## 2. Relational Dabase Building & Querying"
   ]
  },
  {
   "cell_type": "code",
   "execution_count": null,
   "metadata": {},
   "outputs": [],
   "source": []
  },
  {
   "cell_type": "markdown",
   "metadata": {},
   "source": [
    "## 3. Building A Dataset"
   ]
  },
  {
   "cell_type": "code",
   "execution_count": null,
   "metadata": {},
   "outputs": [],
   "source": []
  },
  {
   "cell_type": "markdown",
   "metadata": {},
   "source": [
    "## 4. Building A Model"
   ]
  },
  {
   "cell_type": "code",
   "execution_count": null,
   "metadata": {},
   "outputs": [],
   "source": []
  },
  {
   "cell_type": "markdown",
   "metadata": {},
   "source": [
    "## 5. Training A Model"
   ]
  },
  {
   "cell_type": "code",
   "execution_count": null,
   "metadata": {},
   "outputs": [],
   "source": []
  },
  {
   "cell_type": "markdown",
   "metadata": {},
   "source": [
    "## 6. Implementing A Bot"
   ]
  },
  {
   "cell_type": "code",
   "execution_count": null,
   "metadata": {},
   "outputs": [],
   "source": []
  }
 ],
 "metadata": {
  "kernelspec": {
   "display_name": "Python 3",
   "language": "python",
   "name": "python3"
  },
  "language_info": {
   "codemirror_mode": {
    "name": "ipython",
    "version": 3
   },
   "file_extension": ".py",
   "mimetype": "text/x-python",
   "name": "python",
   "nbconvert_exporter": "python",
   "pygments_lexer": "ipython3",
   "version": "3.8.3"
  }
 },
 "nbformat": 4,
 "nbformat_minor": 2
}

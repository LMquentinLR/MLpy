{
 "cells": [
  {
   "cell_type": "markdown",
   "metadata": {},
   "source": [
    "# ML, MLP, MLPy!\n",
    "\n",
    "### Foreword\n",
    "\n",
    "> \"Moderating on Discord is _hard_.\"\n",
    ">\n",
    "> **t**. _A lot of moderators_\n",
    "\n",
    "Any moderation team on a Discord server can tell you that. Trolls, spammers, and all the highjinks involved are taxing on the people and most of all a day-long, year-round issue. Therefore, behold this fun project, with which I've meant to kill four birds:\n",
    "\n",
    "1. Improving my programming skills\n",
    "\n",
    "2. Learning Relational Databases\n",
    "\n",
    "3. Building a proof-of-work chatroom moderation bot\n",
    "\n",
    "4. Teaching myself some advanced machine learning techniques\n",
    "\n",
    "Let's see where this gets us!\n",
    "\n",
    "### Here be <span style=\"color:orange\">Warnings</span>!\n",
    "\n",
    "1. If you are interested in running this experiment on your own machine, you will not need to always rerun all the ``Code`` cells.\n",
    "\n",
    "> If you've run this whole notebook once, you will only have to run the cells with a warning tag in <b><span style=\"color:red\">red</span></b>.\n",
    "\n",
    "2. This work relies heavily, if not mostly, on the Derpi team for providing both their API and their Postrgres nightly data dump. Thanks to them! \n",
    "\n",
    "> As such, please respect their [licensing rules](https://www.derpibooru.org/pages/api), which this notebook tries to follow as best as possible."
   ]
  },
  {
   "cell_type": "markdown",
   "metadata": {},
   "source": [
    "## 1. Library Imports"
   ]
  },
  {
   "cell_type": "code",
   "execution_count": null,
   "metadata": {},
   "outputs": [],
   "source": []
  },
  {
   "cell_type": "markdown",
   "metadata": {},
   "source": [
    "## 2. Relational Database Building & Querying\n",
    "\n",
    "*Thanks to FreeCodeCamp for their PostGreSQL course available [here](https://www.youtube.com/watch?v=qw--VYLpxG4) and Linuxhint for their tutorial [here](https://linuxhint.com/postgresql_installation_guide_ubuntu_20-04/)*."
   ]
  },
  {
   "cell_type": "code",
   "execution_count": 12,
   "metadata": {
    "scrolled": true
   },
   "outputs": [
    {
     "name": "stdout",
     "output_type": "stream",
     "text": [
      ".   archive  .git\t .ipynb_checkpoints  MLPy_v2.ipynb\r\n",
      "..  db_dump  .gitignore  LICENSE\t     README.md\r\n"
     ]
    }
   ],
   "source": [
    "!ls -a"
   ]
  },
  {
   "cell_type": "raw",
   "metadata": {},
   "source": [
    "# Installation Procedure For Linux\n",
    "!sudo apt update\n",
    "!sudo apt -y upgrade\n",
    "!sudo apt install postgresql postgresql-client\n",
    "!sudo systemctl stop postgresql.service\n",
    "!sudo systemctl start postgresql.service\n",
    "!sudo systemctl enable postgresql.service\n",
    "!sudo systemctl status postgresql.service\n",
    "!sudo passwd postgres\n",
    "!sudo -u postgres psql -c \"ALTER USER postgres PASSWORD 'postgres';\""
   ]
  },
  {
   "cell_type": "raw",
   "metadata": {},
   "source": [
    "# Access PostGreSQL shell\n",
    "!sudo su -l postgres\n",
    "!psql"
   ]
  },
  {
   "cell_type": "raw",
   "metadata": {},
   "source": [
    "# COMMON COMMANDS\n",
    "!CREATE DATABASE derpibooru; #create\n",
    "!DROP DATABASE derpibooru; #delete\n",
    "!psql derpibooru #log into database\n",
    "!psql -h localhost -p 5432 -U postgres derpibooru\n",
    "!\\c derpibooru #connect\n",
    "!\\l #list\n",
    "!\\d #list table when in database\n",
    "!\\d <table> #list attributes in table\n",
    "\n",
    "!CREATE TABLE person (\n",
    "id BIGSERIAL NOT NULL PRIMARY KEY,\n",
    "first_name VARCHAR(50) NOT NULL,\n",
    "last_name VARCHAR(50) NOT NULL,\n",
    "gender VARCHAR(6) NOT NULL,\n",
    "date_of_birth DATE,\n",
    "test(# email VARCHAR(150) \n",
    ");\n",
    "\n",
    "!INSERT INTO person (\n",
    "first_name,\n",
    "last_name,\n",
    "gender,\n",
    "date_of_birth)\n",
    "VALUES ('Anne', 'Smith', 'FEMALE', DATE '1988-01-09')\n",
    "\n",
    "\\i <file path> # execute a sql file\n",
    "\n",
    "pg_restore -O -h localhost -p 5432 -U postgres -d derpibooru /home/quentin/Programming/MLpy/db_dump/derpibooru_public_dump_2020_10_12.pgdump\n",
    "\n",
    "SELECT * FROM <table> WHERE <col> = <thing> OFFSET 5 LIMIT 5/FETCH 10;\n",
    "SELECT COUNT(*) FROM images WHERE image_format IN ('jpeg', 'jpg', 'png', 'PNG');\n",
    "\n",
    "WHERE <val> BETWEEN TYPE '' AND ''\n",
    "\n",
    "SELECT image_format, COUNT(*) FROM images GROUP BY image_format ORDER BY COUNT(*) DESC;\n",
    "\n",
    "SELECT image_format, COUNT(*) FROM images GROUP BY image_format HAVING COUNT(*) > 50000 ORDER BY COUNT(*) DESC;\n"
   ]
  },
  {
   "cell_type": "markdown",
   "metadata": {},
   "source": [
    "## 3. Building A Dataset"
   ]
  },
  {
   "cell_type": "code",
   "execution_count": null,
   "metadata": {},
   "outputs": [],
   "source": []
  },
  {
   "cell_type": "markdown",
   "metadata": {},
   "source": [
    "## 4. Building A Model"
   ]
  },
  {
   "cell_type": "code",
   "execution_count": null,
   "metadata": {},
   "outputs": [],
   "source": []
  },
  {
   "cell_type": "markdown",
   "metadata": {},
   "source": [
    "## 5. Training A Model"
   ]
  },
  {
   "cell_type": "code",
   "execution_count": null,
   "metadata": {},
   "outputs": [],
   "source": []
  },
  {
   "cell_type": "markdown",
   "metadata": {},
   "source": [
    "## 6. Implementing A Bot"
   ]
  },
  {
   "cell_type": "code",
   "execution_count": null,
   "metadata": {},
   "outputs": [],
   "source": []
  }
 ],
 "metadata": {
  "kernelspec": {
   "display_name": "Python 3",
   "language": "python",
   "name": "python3"
  },
  "language_info": {
   "codemirror_mode": {
    "name": "ipython",
    "version": 3
   },
   "file_extension": ".py",
   "mimetype": "text/x-python",
   "name": "python",
   "nbconvert_exporter": "python",
   "pygments_lexer": "ipython3",
   "version": "3.8.3"
  }
 },
 "nbformat": 4,
 "nbformat_minor": 2
}

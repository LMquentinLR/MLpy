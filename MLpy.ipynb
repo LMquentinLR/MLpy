{
 "cells": [
  {
   "cell_type": "markdown",
   "metadata": {},
   "source": [
    "# ML.py, MLpy, MLPy!\n",
    "<p style=\"text-align: center;\">MLpy came as a simple question <i>and</i> a project in pespective:\n",
    "<br><b>\"Can I build a discord bot that can tell two pictures apart?\"</b></p>\n",
    "<br>The goal of this Jupyter Notebook is two-fold with one overarching thread:\n",
    "\n",
    "1. To build a web crawler that can crawl a statistically relevant number of images from [derpibooru](https://derpibooru.org), a linear image database powered by the community revolving around the 'My Little Pony' G4 show.\n",
    "2. To build a machine learning model capable of telling the difference between 2 types of pictures--to be summarized in a function to implement in my existing Discord bot [BotJack](https://github.com/LMquentinLR/botjack_discord_bot)."
   ]
  },
  {
   "cell_type": "markdown",
   "metadata": {},
   "source": [
    "### Why image detection for a Discord bot?\n",
    "A Discord moderation team may want to identify images posted on their server for multiple purposes: classification, tagging, games, etc. \n",
    "<p style=\"text-align: center;\">This notebook will focus on <b>compliance</b>.</p> \n",
    "\n",
    "* Servers often have anti-NSFW (i.e. not safe for watch) rules where explicit, grim, and otherwise unwanted content is banned or curtailed to specific server channels.\n",
    "* Moderation being volunteer-driven on Discord, malicious users may capitalize on idle, asleep, or away-from-keyboard moderators to engage in rule-breaking activities. More commonly, users may simply post a NSFW picture in a SFW-only channel. \n",
    "* A bot able to distinguish NSFW content from SFW helps fill in the breaches that may affect any moderation effort. A bot, for instance, could automatically alert moderators when a specific content is posted and start a moderating process prior to any human intervention.\n",
    "\n",
    "> <b>Automatic content moderation and compliance is a current industry effort in social media (e.g. Facebook)</b>, making this notebook a real world application."
   ]
  },
  {
   "cell_type": "code",
   "execution_count": 1,
   "metadata": {},
   "outputs": [
    {
     "name": "stderr",
     "output_type": "stream",
     "text": [
      "Using TensorFlow backend.\n"
     ]
    }
   ],
   "source": [
    "import derpi_get #datacrawler available here: https://github.com/LMquentinLR/derpi_get\n",
    "import json\n",
    "import keras\n",
    "from keras.models import Sequential\n",
    "from keras.models import load_model\n",
    "from keras.layers import LeakyReLU\n",
    "from keras.layers import Dense, Dropout, Flatten\n",
    "from keras.layers import Conv2D, MaxPooling2D\n",
    "from keras.layers. normalization import BatchNormalization\n",
    "import os\n",
    "from PIL import Image\n",
    "import matplotlib.pyplot as plt\n",
    "import numpy as np\n",
    "import random\n",
    "from random import shuffle\n",
    "import shutil\n",
    "import time"
   ]
  },
  {
   "cell_type": "markdown",
   "metadata": {},
   "source": [
    "### Building a web crawler\n",
    "Derpibooru is a website dedicated to fan MLP art. It provides a REST API for rudimentary site functionality, It can be freely used by anyone wanting to produce tools for the site or other webapps that use Derpibooru-provided data.\n",
    "\n",
    "<b>Derpibooru licensing rules</b>\n",
    "\n",
    "\"<i>Anyone can use it, users making abusively high numbers of requests may be asked to stop. Your application MUST properly cache, respect server-side cache expiry times. Your client MUST gracefully back off if requests fail (eg non-200 HTTP code), preferably exponentially or fatally.</i>\"\n",
    "\n",
    "A single image can be accessed through the following links:\n",
    "1. <b>Embedded</b>: [../2072316](https://derpibooru.org/2072316)\n",
    "2. <b>Default size</b>: [../img/view/2019/6/22/2072316.png](https://derpicdn.net/img/view/2019/6/22/2072316.png) \n",
    "3. <b>Small size</b>: [../img/view/2019/6/22/2072316_small.png](https://derpicdn.net/img/view/2019/6/22/2072316_small.png)\n",
    "4. <b>Medium size</b>: [../img/view/2019/6/22/2072316_medium.png](https://derpicdn.net/img/view/2019/6/22/2072316_medium.png)\n",
    "5. <b>Large size</b>: [../img/view/2019/6/22/2072316_large.png](https://derpicdn.net/img/view/2019/6/22/2072316_large.png)\n",
    "\n",
    "The metadata of a single picture can be accessed through the following link:\n",
    "* https://derpibooru.org/2072316.json\n",
    "\n",
    "Each picture as the following list of attributes:\n",
    ">id, created_at, updated_at, first_seen_at, score, comment_count, width, height, file_name, description, uploader, uploader_id, image, upvotes, downvotes, faves, tags, tag_ids, aspect_ratio, original_format, mime_type, sha512_hash, orig_sha512_hash, source_url, representations, is_rendered, is_optimized, interactions, spoilered"
   ]
  },
  {
   "cell_type": "markdown",
   "metadata": {},
   "source": [
    "------------------"
   ]
  },
  {
   "cell_type": "markdown",
   "metadata": {},
   "source": [
    "## Initializing object"
   ]
  },
  {
   "cell_type": "code",
   "execution_count": 2,
   "metadata": {},
   "outputs": [],
   "source": [
    "obj = derpi_get.derpibooru_search()"
   ]
  },
  {
   "cell_type": "markdown",
   "metadata": {},
   "source": [
    "## Crawling\n",
    "1. Test #1 would retrieve all existing available picture metadata but will stop at the 10th requested page\n",
    "2. Test #2 will retrieve all existing available picture metadata (can take up to 60h as at July 2019 if you crawl the full derpibooru database)"
   ]
  },
  {
   "cell_type": "code",
   "execution_count": null,
   "metadata": {},
   "outputs": [],
   "source": [
    "#test #1\n",
    "obj.change_search(instances = 10)\n",
    "obj.crawl()"
   ]
  },
  {
   "cell_type": "code",
   "execution_count": null,
   "metadata": {
    "scrolled": true
   },
   "outputs": [],
   "source": [
    "#test #2\n",
    "obj.change_search(instances = \"\")\n",
    "obj.crawl()"
   ]
  },
  {
   "cell_type": "markdown",
   "metadata": {},
   "source": [
    "From time to time, retrieved metadata (as a JSON) would be missing their tags value. The following method checks for existing missing tags and retrieve them from derpibooru."
   ]
  },
  {
   "cell_type": "code",
   "execution_count": null,
   "metadata": {},
   "outputs": [],
   "source": [
    "obj.repair()"
   ]
  },
  {
   "cell_type": "markdown",
   "metadata": {},
   "source": [
    "## Retrieving IDs based on tag selection"
   ]
  },
  {
   "cell_type": "markdown",
   "metadata": {},
   "source": [
    "The derpi_get search function takes a list of strings. Each string which must match the following format:\n",
    "\n",
    "> \"+tag\" <i>or</i> \"-tag\"\n",
    "\n",
    "> <b>+</b> indicates keeping the ID during search, <b>-</b> indicates removing the ID\n",
    "\n",
    "The [at_least_one] variable indicates:\n",
    "1. if <b>TRUE</b>: <b>Only</b> the IDs, which tags <b>contain at least one</b> of the items listed in the variable [tags] with a \"+\" prefix, will be retrieved\n",
    "2. if <b>FALSE</b>: <b>Only</b> the IDs, which tags <b>contain all</b> of the items listed in the variable [tags] with a \"+\" prefix, will be retrieved"
   ]
  },
  {
   "cell_type": "code",
   "execution_count": 3,
   "metadata": {},
   "outputs": [],
   "source": [
    "search_tags = [\"+safe\", \"+rarijack\"]\n",
    "search_include = False\n",
    "obj.change_search(tags = search_tags, at_least_one = search_include)"
   ]
  },
  {
   "cell_type": "code",
   "execution_count": 4,
   "metadata": {
    "scrolled": false
   },
   "outputs": [
    {
     "name": "stdout",
     "output_type": "stream",
     "text": [
      "----|Retrieving IDs based on tag selection|----\n",
      "There was an error during the JSON load of file derpibooru_metadata_103.json:\n",
      "Expecting ':' delimiter: line 1 column 871265 (char 871264)\n",
      "----------------|IDs retrieved|----------------\n",
      "3587\n",
      "<class 'list'>\n",
      "\n",
      "First five items retrieved:\n",
      "[(2143758, 'derpicdn.net/img/2019/9/14/2143758/large.png'), (1062, 'derpicdn.net/img/2012/1/21/1062/large.jpg'), (1027, 'derpicdn.net/img/2012/1/20/1027/large.png'), (12258, 'derpicdn.net/img/2012/6/20/12258/large.png'), (12255, 'derpicdn.net/img/2012/6/20/12255/large.png')]\n"
     ]
    }
   ],
   "source": [
    "id_list = obj.retrieve_ids()\n",
    "\n",
    "print(len(id_list))\n",
    "print(type(id_list))\n",
    "print(\"\\nFirst five items retrieved:\")\n",
    "print(id_list[:5])"
   ]
  },
  {
   "cell_type": "markdown",
   "metadata": {},
   "source": [
    "### Retrieving pictures based on retrieved IDs"
   ]
  },
  {
   "cell_type": "code",
   "execution_count": 5,
   "metadata": {},
   "outputs": [
    {
     "name": "stdout",
     "output_type": "stream",
     "text": [
      "3587\n"
     ]
    }
   ],
   "source": [
    "nb_of_requests = len(id_list)\n",
    "print(nb_of_requests)"
   ]
  },
  {
   "cell_type": "code",
   "execution_count": null,
   "metadata": {
    "scrolled": true
   },
   "outputs": [],
   "source": [
    "obj.request_imgs(search_tags, id_list)"
   ]
  },
  {
   "cell_type": "markdown",
   "metadata": {},
   "source": [
    "## Data Exploration Using MatPlotlib"
   ]
  },
  {
   "cell_type": "markdown",
   "metadata": {},
   "source": [
    "#### What do we want to plot?\n",
    "\n",
    "> number of \"safe\" pictures posted across time that fit the tag \"rarijack\"."
   ]
  },
  {
   "cell_type": "code",
   "execution_count": null,
   "metadata": {},
   "outputs": [],
   "source": []
  },
  {
   "cell_type": "markdown",
   "metadata": {},
   "source": [
    "### MatplotLib"
   ]
  },
  {
   "cell_type": "code",
   "execution_count": null,
   "metadata": {},
   "outputs": [],
   "source": []
  },
  {
   "cell_type": "markdown",
   "metadata": {},
   "source": [
    "# SEPARATING SFW FROM NSFW PICTURES"
   ]
  },
  {
   "cell_type": "markdown",
   "metadata": {},
   "source": [
    "## Downloading pictures"
   ]
  },
  {
   "cell_type": "markdown",
   "metadata": {},
   "source": [
    "We need to download a set of pictures which can be used to fit a machine learning model."
   ]
  },
  {
   "cell_type": "code",
   "execution_count": 24,
   "metadata": {},
   "outputs": [],
   "source": [
    "def download(tags, nb_of_requests):\n",
    "    \"\"\"\n",
    "    Downloads pictures based on a list of tag.\n",
    "    ---\n",
    "    :param <tags>: list ; list of tags to sort and download pictures\n",
    "    :param <nb_of_requests>: int ; number of download requests to perform\n",
    "    \"\"\"\n",
    "    for tag in tags:\n",
    "        obj = derpi_get.derpibooru_search()\n",
    "        obj.change_search(tags = tag, at_least_one = True)\n",
    "        id_list = obj.retrieve_ids()\n",
    "        obj.request_imgs(tag, id_list, nb_of_requests)"
   ]
  },
  {
   "cell_type": "code",
   "execution_count": 7,
   "metadata": {
    "scrolled": true
   },
   "outputs": [],
   "source": [
    "tags = [[\"+safe\",\"-comic\", \"-meme\", \"-text\"], \n",
    "        [\"+explicit\", \"+grimdark\", \"+suggestive\", \"+questionable\", \"-comic\", \"-meme\", \"-text\"]]"
   ]
  },
  {
   "cell_type": "code",
   "execution_count": null,
   "metadata": {
    "scrolled": true
   },
   "outputs": [],
   "source": [
    "download(tags, 5000)"
   ]
  },
  {
   "cell_type": "markdown",
   "metadata": {},
   "source": [
    "## Cleaning extracted pictures"
   ]
  },
  {
   "cell_type": "markdown",
   "metadata": {},
   "source": [
    "The retrieved pictures are all sized differently and some are unusable. We need to resize them and clean the folders from the unreadable data."
   ]
  },
  {
   "cell_type": "code",
   "execution_count": 8,
   "metadata": {
    "scrolled": true
   },
   "outputs": [],
   "source": [
    "def clean_pictures(targets):\n",
    "    \"\"\"\n",
    "    Cleans the pictures that will be used for training and validation.\n",
    "    ---\n",
    "    :param <targets>: list ; list of folders to clean\n",
    "    \"\"\"\n",
    "    for folder in target_folders:\n",
    "        img_content = os.listdir(folder)\n",
    "        to_delete = []\n",
    "        for img in img_content:\n",
    "            if ((img[-4:] == \"jpeg\") or \n",
    "                (img[-3:] == \"jpg\") or \n",
    "                (img[-3:] == \"png\")):\n",
    "                try:\n",
    "                    image = Image.open(folder + \"/\" + img)\n",
    "                    if 0.7 < image.size[0]/image.size[1] < 1.4:\n",
    "                        image = image.resize((224, 224))\n",
    "                        image.save(folder + \"/\" + img)\n",
    "                    else:\n",
    "                        image.close()\n",
    "                        os.remove(folder + \"/\" + img)\n",
    "                except Exception as e:\n",
    "                    print(e)\n",
    "                    os.remove(folder + \"/\" + img)"
   ]
  },
  {
   "cell_type": "markdown",
   "metadata": {},
   "source": [
    "The downloaded pictures have been <b>manually</b> copied in \"copy\" folders to avoid overwriting them."
   ]
  },
  {
   "cell_type": "code",
   "execution_count": 10,
   "metadata": {},
   "outputs": [
    {
     "name": "stdout",
     "output_type": "stream",
     "text": [
      "cannot write mode RGBA as JPEG\n"
     ]
    }
   ],
   "source": [
    "target_folders = [\"./data/+safe-comic-meme-text\", \n",
    "                  \"./data/+explicit+grimdark+questionable+suggestive-comic-meme-text\"]\n",
    "clean_pictures(target_folders)"
   ]
  },
  {
   "cell_type": "markdown",
   "metadata": {},
   "source": [
    "## Running Machine Learning"
   ]
  },
  {
   "cell_type": "markdown",
   "metadata": {},
   "source": [
    "### Creating samples"
   ]
  },
  {
   "cell_type": "markdown",
   "metadata": {},
   "source": [
    "Based on all the extracted pictures--and to make the process run in a timely manner on my Surface Pro 2--we are sampling the extracted data:\n",
    "\n",
    "- 2000 safe and unsafe pictures for training\n",
    "- 200 safe and unsafe pictures for testing/validation"
   ]
  },
  {
   "cell_type": "code",
   "execution_count": 11,
   "metadata": {},
   "outputs": [],
   "source": [
    "def create_sample(folders, model_description):\n",
    "    \"\"\"\n",
    "    Samples existing pictures.\n",
    "    ---\n",
    "    :param <folders>: list ; list of folders to sample\n",
    "    :param <model_description>: list ; list of folders where to store samples \n",
    "                                 + nb of pictures to extract\n",
    "    \"\"\"\n",
    "    for model in model_description:\n",
    "        target_folder = model[0]\n",
    "        try:\n",
    "            shutil.rmtree(target_folder)\n",
    "        except Exception as e: \n",
    "            print(e)\n",
    "        os.makedirs(target_folder)\n",
    "        \n",
    "        selection = []\n",
    "        \n",
    "        for folder in folders:\n",
    "            counter = 0\n",
    "            stored_imgs = os.listdir(folder)\n",
    "            \n",
    "            while counter != model[1]:\n",
    "                choice = random.choice(stored_imgs)\n",
    "                if choice not in selection:\n",
    "                    selection.append(choice)\n",
    "                    shutil.copy(folder + \"/\" + choice, target_folder)\n",
    "                    os.rename(target_folder + \"/\" + choice,\n",
    "                             target_folder + \"/\" + folder[7:].split(\"-\")[0]\n",
    "                             + \"-\" + choice)\n",
    "                    counter += 1"
   ]
  },
  {
   "cell_type": "code",
   "execution_count": 13,
   "metadata": {},
   "outputs": [
    {
     "name": "stdout",
     "output_type": "stream",
     "text": [
      "[WinError 3] The system cannot find the path specified: './data/Test'\n"
     ]
    }
   ],
   "source": [
    "folders = [\"./data/+safe-comic-meme-text\", \n",
    "           \"./data/+explicit+grimdark+questionable+suggestive-comic-meme-text\"]\n",
    "model_description = [(\"./data/Training\", 2000),\n",
    "                     (\"./data/Test\", 200)]\n",
    "\n",
    "create_sample(folders, model_description)"
   ]
  },
  {
   "cell_type": "markdown",
   "metadata": {},
   "source": [
    "The code below is a rewrite of the following github: [here](https://github.com/CShorten/KaggleDogBreedChallenge/blob/master/DogBreed_BinaryClassification.ipynb?source=post_page---------------------------).\n",
    "Thanks to CShorten!"
   ]
  },
  {
   "cell_type": "code",
   "execution_count": 14,
   "metadata": {},
   "outputs": [],
   "source": [
    "def label_img(name):\n",
    "    \"\"\"\n",
    "    Returns whether an image is safe or unsafe based on its name.\n",
    "    ---\n",
    "    :param <name>: string ; path/name of a picture\n",
    "    \"\"\"\n",
    "    word_label = name.split('-')[0]\n",
    "    if word_label.startswith(\"+safe\"): return np.array([1, 0])\n",
    "    else: return np.array([0, 1])\n",
    "\n",
    "def load_data(folder):\n",
    "    \"\"\"\n",
    "    Loads the safe/unsafe value of each picture stored in a specific folder.\n",
    "    ---\n",
    "    :param <filder>: string ; path of a folder\n",
    "    \"\"\"\n",
    "    test_data = []\n",
    "    for img in os.listdir(folder):\n",
    "        label = label_img(img)\n",
    "        path = os.path.join(folder, img)\n",
    "        img = Image.open(path)\n",
    "        img = img.convert('L')\n",
    "        img = img.resize((224, 224), Image.ANTIALIAS)\n",
    "        test_data.append([np.array(img), label])\n",
    "    shuffle(test_data)\n",
    "    return test_data"
   ]
  },
  {
   "cell_type": "code",
   "execution_count": 15,
   "metadata": {},
   "outputs": [],
   "source": [
    "model_description = [(\"./data/Training\", 2000),\n",
    "                     (\"./data/Test\", 200)]\n",
    "DIR_TRAINING = model_description[0][0]\n",
    "DIR_TESTING = model_description[1][0]"
   ]
  },
  {
   "cell_type": "code",
   "execution_count": 16,
   "metadata": {
    "scrolled": true
   },
   "outputs": [
    {
     "name": "stderr",
     "output_type": "stream",
     "text": [
      "c:\\users\\quent\\appdata\\local\\programs\\python\\python37\\lib\\site-packages\\PIL\\Image.py:993: UserWarning: Palette images with Transparency expressed in bytes should be converted to RGBA images\n",
      "  \"Palette images with Transparency expressed in bytes should be \"\n"
     ]
    },
    {
     "data": {
      "image/png": "[encoded data removed]",
      "text/plain": [
       "<Figure size 432x288 with 1 Axes>"
      ]
     },
     "metadata": {
      "needs_background": "light"
     },
     "output_type": "display_data"
    }
   ],
   "source": [
    "train_data = load_data(DIR_TRAINING)\n",
    "plt.imshow(train_data[1][0], cmap = 'gist_gray')\n",
    "\n",
    "trainImages = np.array([i[0] for i in train_data]).reshape(-1, 224, 224, 1)\n",
    "trainLabels = np.array([i[1] for i in train_data])"
   ]
  },
  {
   "cell_type": "code",
   "execution_count": 17,
   "metadata": {},
   "outputs": [
    {
     "data": {
      "image/png": "[encoded data removed]",
      "text/plain": [
       "<Figure size 432x288 with 1 Axes>"
      ]
     },
     "metadata": {
      "needs_background": "light"
     },
     "output_type": "display_data"
    }
   ],
   "source": [
    "test_data = load_data(DIR_TESTING)    \n",
    "plt.imshow(test_data[1][0], cmap = 'gist_gray')\n",
    "\n",
    "testImages = np.array([i[0] for i in test_data]).reshape(-1, 224, 224, 1)\n",
    "testLabels = np.array([i[1] for i in test_data])"
   ]
  },
  {
   "cell_type": "markdown",
   "metadata": {},
   "source": [
    "### Machine Learning Modeling"
   ]
  },
  {
   "cell_type": "code",
   "execution_count": 18,
   "metadata": {},
   "outputs": [
    {
     "name": "stderr",
     "output_type": "stream",
     "text": [
      "WARNING: Logging before flag parsing goes to stderr.\n",
      "W0914 17:57:25.250977  3944 deprecation_wrapper.py:119] From c:\\users\\quent\\appdata\\local\\programs\\python\\python37\\lib\\site-packages\\keras\\backend\\tensorflow_backend.py:74: The name tf.get_default_graph is deprecated. Please use tf.compat.v1.get_default_graph instead.\n",
      "\n",
      "W0914 17:57:25.316586  3944 deprecation_wrapper.py:119] From c:\\users\\quent\\appdata\\local\\programs\\python\\python37\\lib\\site-packages\\keras\\backend\\tensorflow_backend.py:517: The name tf.placeholder is deprecated. Please use tf.compat.v1.placeholder instead.\n",
      "\n",
      "W0914 17:57:25.339259  3944 deprecation_wrapper.py:119] From c:\\users\\quent\\appdata\\local\\programs\\python\\python37\\lib\\site-packages\\keras\\backend\\tensorflow_backend.py:4138: The name tf.random_uniform is deprecated. Please use tf.random.uniform instead.\n",
      "\n",
      "W0914 17:57:25.387232  3944 deprecation_wrapper.py:119] From c:\\users\\quent\\appdata\\local\\programs\\python\\python37\\lib\\site-packages\\keras\\backend\\tensorflow_backend.py:3976: The name tf.nn.max_pool is deprecated. Please use tf.nn.max_pool2d instead.\n",
      "\n",
      "W0914 17:57:25.417214  3944 deprecation_wrapper.py:119] From c:\\users\\quent\\appdata\\local\\programs\\python\\python37\\lib\\site-packages\\keras\\backend\\tensorflow_backend.py:174: The name tf.get_default_session is deprecated. Please use tf.compat.v1.get_default_session instead.\n",
      "\n",
      "W0914 17:57:25.418216  3944 deprecation_wrapper.py:119] From c:\\users\\quent\\appdata\\local\\programs\\python\\python37\\lib\\site-packages\\keras\\backend\\tensorflow_backend.py:181: The name tf.ConfigProto is deprecated. Please use tf.compat.v1.ConfigProto instead.\n",
      "\n",
      "W0914 17:57:25.530247  3944 deprecation_wrapper.py:119] From c:\\users\\quent\\appdata\\local\\programs\\python\\python37\\lib\\site-packages\\keras\\backend\\tensorflow_backend.py:1834: The name tf.nn.fused_batch_norm is deprecated. Please use tf.compat.v1.nn.fused_batch_norm instead.\n",
      "\n",
      "W0914 17:57:25.999003  3944 deprecation.py:506] From c:\\users\\quent\\appdata\\local\\programs\\python\\python37\\lib\\site-packages\\keras\\backend\\tensorflow_backend.py:3445: calling dropout (from tensorflow.python.ops.nn_ops) with keep_prob is deprecated and will be removed in a future version.\n",
      "Instructions for updating:\n",
      "Please use `rate` instead of `keep_prob`. Rate should be set to `rate = 1 - keep_prob`.\n"
     ]
    }
   ],
   "source": [
    "model = Sequential()\n",
    "model.add(Conv2D(32, kernel_size = (3, 3),\n",
    "                 activation='relu',\n",
    "                 input_shape=(224, 224, 1)))\n",
    "\n",
    "model.add(MaxPooling2D(pool_size=(2,2)))\n",
    "model.add(BatchNormalization())\n",
    "model.add(LeakyReLU(alpha=0.01))\n",
    "\n",
    "model.add(Conv2D(96,\n",
    "                 kernel_size=(3,3),\n",
    "                 activation='relu'))\n",
    "model.add(MaxPooling2D(pool_size=(2,2)))\n",
    "model.add(BatchNormalization())\n",
    "\n",
    "model.add(Conv2D(96,\n",
    "                 kernel_size=(3,3),\n",
    "                 activation='relu'))\n",
    "model.add(MaxPooling2D(pool_size=(2,2)))\n",
    "model.add(BatchNormalization())\n",
    "\n",
    "model.add(Conv2D(64,\n",
    "                 kernel_size=(3,3),\n",
    "                 activation='relu'))\n",
    "model.add(MaxPooling2D(pool_size=(2,2)))\n",
    "model.add(BatchNormalization())\n",
    "\n",
    "model.add(Dropout(0.2))\n",
    "model.add(Flatten())\n",
    "model.add(Dense(256, activation='relu'))\n",
    "model.add(Dropout(0.2))\n",
    "model.add(Dense(128, activation='relu'))\n",
    "model.add(Dropout(0.3))\n",
    "\n",
    "model.add(Dense(2, activation = 'softmax'))"
   ]
  },
  {
   "cell_type": "code",
   "execution_count": 19,
   "metadata": {},
   "outputs": [
    {
     "name": "stderr",
     "output_type": "stream",
     "text": [
      "W0914 17:57:36.642275  3944 deprecation_wrapper.py:119] From c:\\users\\quent\\appdata\\local\\programs\\python\\python37\\lib\\site-packages\\keras\\optimizers.py:790: The name tf.train.Optimizer is deprecated. Please use tf.compat.v1.train.Optimizer instead.\n",
      "\n",
      "W0914 17:57:36.676255  3944 deprecation.py:323] From c:\\users\\quent\\appdata\\local\\programs\\python\\python37\\lib\\site-packages\\tensorflow\\python\\ops\\nn_impl.py:180: add_dispatch_support.<locals>.wrapper (from tensorflow.python.ops.array_ops) is deprecated and will be removed in a future version.\n",
      "Instructions for updating:\n",
      "Use tf.where in 2.0, which has the same broadcast rule as np.where\n"
     ]
    }
   ],
   "source": [
    "model.compile(loss='binary_crossentropy', \n",
    "              optimizer='adam', \n",
    "              metrics = ['accuracy'])"
   ]
  },
  {
   "cell_type": "code",
   "execution_count": 20,
   "metadata": {
    "scrolled": false
   },
   "outputs": [
    {
     "name": "stdout",
     "output_type": "stream",
     "text": [
      "Epoch 1/20\n",
      "4000/4000 [==============================] - 684s 171ms/step - loss: 1.2449 - acc: 0.5433\n",
      "Epoch 2/20\n",
      "4000/4000 [==============================] - 681s 170ms/step - loss: 0.7455 - acc: 0.5842\n",
      "Epoch 3/20\n",
      "4000/4000 [==============================] - 671s 168ms/step - loss: 0.6444 - acc: 0.6440\n",
      "Epoch 4/20\n",
      "4000/4000 [==============================] - 599s 150ms/step - loss: 0.5889 - acc: 0.6775\n",
      "Epoch 5/20\n",
      "4000/4000 [==============================] - 588s 147ms/step - loss: 0.5451 - acc: 0.7113\n",
      "Epoch 6/20\n",
      "4000/4000 [==============================] - 593s 148ms/step - loss: 0.4869 - acc: 0.7515\n",
      "Epoch 7/20\n",
      "4000/4000 [==============================] - 592s 148ms/step - loss: 0.4344 - acc: 0.7897\n",
      "Epoch 8/20\n",
      "4000/4000 [==============================] - 592s 148ms/step - loss: 0.3832 - acc: 0.8213\n",
      "Epoch 9/20\n",
      "4000/4000 [==============================] - 594s 148ms/step - loss: 0.3223 - acc: 0.8555\n",
      "Epoch 10/20\n",
      "4000/4000 [==============================] - 593s 148ms/step - loss: 0.2560 - acc: 0.8905\n",
      "Epoch 11/20\n",
      "4000/4000 [==============================] - 593s 148ms/step - loss: 0.2358 - acc: 0.9000\n",
      "Epoch 12/20\n",
      "4000/4000 [==============================] - 596s 149ms/step - loss: 0.1813 - acc: 0.9213\n",
      "Epoch 13/20\n",
      "4000/4000 [==============================] - 641s 160ms/step - loss: 0.1466 - acc: 0.9423\n",
      "Epoch 14/20\n",
      "4000/4000 [==============================] - 686s 171ms/step - loss: 0.1453 - acc: 0.9447\n",
      "Epoch 15/20\n",
      "4000/4000 [==============================] - 680s 170ms/step - loss: 0.1351 - acc: 0.9455\n",
      "Epoch 16/20\n",
      "4000/4000 [==============================] - 761s 190ms/step - loss: 0.1049 - acc: 0.9610\n",
      "Epoch 17/20\n",
      "4000/4000 [==============================] - 595s 149ms/step - loss: 0.0854 - acc: 0.9680\n",
      "Epoch 18/20\n",
      "4000/4000 [==============================] - 658s 165ms/step - loss: 0.0922 - acc: 0.9670\n",
      "Epoch 19/20\n",
      "4000/4000 [==============================] - 703s 176ms/step - loss: 0.0792 - acc: 0.9712\n",
      "Epoch 20/20\n",
      "4000/4000 [==============================] - 661s 165ms/step - loss: 0.0910 - acc: 0.9655\n"
     ]
    },
    {
     "data": {
      "text/plain": [
       "<keras.callbacks.History at 0x1adf075f048>"
      ]
     },
     "execution_count": 20,
     "metadata": {},
     "output_type": "execute_result"
    }
   ],
   "source": [
    "model.fit(trainImages, \n",
    "          trainLabels, \n",
    "          batch_size = 32, \n",
    "          epochs = 20,\n",
    "          verbose = 1)"
   ]
  },
  {
   "cell_type": "code",
   "execution_count": 21,
   "metadata": {},
   "outputs": [
    {
     "name": "stdout",
     "output_type": "stream",
     "text": [
      "79.75\n"
     ]
    }
   ],
   "source": [
    "loss, acc = model.evaluate(testImages, testLabels, verbose = 0)\n",
    "print(acc * 100)"
   ]
  },
  {
   "cell_type": "markdown",
   "metadata": {},
   "source": [
    "As at September 14th, the prediction power of the model over the test sample is of 79.75%."
   ]
  },
  {
   "cell_type": "code",
   "execution_count": 23,
   "metadata": {},
   "outputs": [],
   "source": [
    "model.save('NSFWdetector_20e32bs_v1.h5')"
   ]
  },
  {
   "cell_type": "markdown",
   "metadata": {},
   "source": [
    "### Training an already trained model"
   ]
  },
  {
   "cell_type": "markdown",
   "metadata": {},
   "source": [
    "2000 new safe and unsafe pictures have been sampled for training, along with 200 new safe and unsafe pictures for testing."
   ]
  },
  {
   "cell_type": "code",
   "execution_count": null,
   "metadata": {
    "scrolled": true
   },
   "outputs": [],
   "source": [
    "tags = [[\"+safe\",\"-comic\", \"-meme\", \"-text\"], \n",
    "        [\"+explicit\", \"+grimdark\", \"+suggestive\", \"+questionable\", \"-comic\", \"-meme\", \"-text\"]]\n",
    "download(tags, 3500)\n",
    "\n",
    "folders = [\"./data/+safe-comic-meme-text\", \n",
    "                  \"./data/+explicit+grimdark+questionable+suggestive-comic-meme-text\"]\n",
    "clean_pictures(target_folders)"
   ]
  },
  {
   "cell_type": "code",
   "execution_count": 27,
   "metadata": {},
   "outputs": [
    {
     "name": "stdout",
     "output_type": "stream",
     "text": [
      "[WinError 3] The system cannot find the path specified: './data/ReTraining'\n",
      "[WinError 3] The system cannot find the path specified: './data/ReTest'\n"
     ]
    }
   ],
   "source": [
    "model_description = [(\"./data/ReTraining\", 2000),\n",
    "                     (\"./data/ReTest\", 200)]\n",
    "\n",
    "create_sample(folders, model_description)"
   ]
  },
  {
   "cell_type": "code",
   "execution_count": 28,
   "metadata": {},
   "outputs": [],
   "source": [
    "model = load_model('NSFWdetector_20e32bs_v1.h5')"
   ]
  },
  {
   "cell_type": "code",
   "execution_count": 29,
   "metadata": {
    "scrolled": false
   },
   "outputs": [
    {
     "name": "stdout",
     "output_type": "stream",
     "text": [
      "Epoch 1/10\n",
      "4000/4000 [==============================] - 579s 145ms/step - loss: 0.0629 - acc: 0.9780\n",
      "Epoch 2/10\n",
      "4000/4000 [==============================] - 577s 144ms/step - loss: 0.1025 - acc: 0.9650\n",
      "Epoch 3/10\n",
      "4000/4000 [==============================] - 579s 145ms/step - loss: 0.0631 - acc: 0.9792\n",
      "Epoch 4/10\n",
      "4000/4000 [==============================] - 578s 144ms/step - loss: 0.0518 - acc: 0.9805\n",
      "Epoch 5/10\n",
      "4000/4000 [==============================] - 583s 146ms/step - loss: 0.0443 - acc: 0.9843\n",
      "Epoch 6/10\n",
      "4000/4000 [==============================] - 580s 145ms/step - loss: 0.0488 - acc: 0.9810\n",
      "Epoch 7/10\n",
      "4000/4000 [==============================] - 579s 145ms/step - loss: 0.0406 - acc: 0.9885\n",
      "Epoch 8/10\n",
      "4000/4000 [==============================] - 579s 145ms/step - loss: 0.0430 - acc: 0.9855\n",
      "Epoch 9/10\n",
      "4000/4000 [==============================] - 581s 145ms/step - loss: 0.0666 - acc: 0.9775\n",
      "Epoch 10/10\n",
      "4000/4000 [==============================] - 581s 145ms/step - loss: 0.0589 - acc: 0.9778\n"
     ]
    },
    {
     "data": {
      "text/plain": [
       "<keras.callbacks.History at 0x1ada1722a08>"
      ]
     },
     "execution_count": 29,
     "metadata": {},
     "output_type": "execute_result"
    }
   ],
   "source": [
    "model.fit(trainImages, \n",
    "          trainLabels, \n",
    "          batch_size = 32, \n",
    "          epochs = 10,\n",
    "          verbose = 1)"
   ]
  },
  {
   "cell_type": "code",
   "execution_count": 30,
   "metadata": {
    "scrolled": true
   },
   "outputs": [
    {
     "name": "stdout",
     "output_type": "stream",
     "text": [
      "79.0\n"
     ]
    }
   ],
   "source": [
    "loss, acc = model.evaluate(testImages, testLabels, verbose = 0)\n",
    "print(acc * 100)"
   ]
  },
  {
   "cell_type": "markdown",
   "metadata": {},
   "source": [
    "As at September 14th, training the first version of the model again worsens the prediction power of the model over a test sample by 100 basis points. <b>This is a potential case of overfitting</b>."
   ]
  },
  {
   "cell_type": "code",
   "execution_count": 31,
   "metadata": {},
   "outputs": [],
   "source": [
    "model.save('NSFWdetector_20e32bs_v1_retrained.h5')"
   ]
  }
 ],
 "metadata": {
  "kernelspec": {
   "display_name": "Python 3",
   "language": "python",
   "name": "python3"
  },
  "language_info": {
   "codemirror_mode": {
    "name": "ipython",
    "version": 3
   },
   "file_extension": ".py",
   "mimetype": "text/x-python",
   "name": "python",
   "nbconvert_exporter": "python",
   "pygments_lexer": "ipython3",
   "version": "3.7.4"
  }
 },
 "nbformat": 4,
 "nbformat_minor": 2
}

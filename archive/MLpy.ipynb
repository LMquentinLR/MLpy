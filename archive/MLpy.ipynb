{
 "cells": [
  {
   "cell_type": "markdown",
   "metadata": {},
   "source": [
    "# ML.py, MLpy, MLPy!\n",
    "<p style=\"text-align: center;\">MLpy came as a simple question and a project in pespective:\n",
    "<br><b>\"Can I build a discord bot that can tell two pictures apart?\"</b></p>\n",
    "<br>The goal of this Jupyter Notebook is two-fold with one overarching thread:\n",
    "\n",
    "1. To use a self-made [web scraper](https://github.com/LMquentinLR/derpi_get) that can crawl, if not all, a statistically relevant number of images from [derpibooru](https://derpibooru.org), a linear image database powered by the community revolving around the 'My Little Pony' cartoon.\n",
    "2. To build a machine learning model capable of telling the difference between 2 types of pictures--to be summarized in a function to implement in my existing Discord bot [BotJack](https://github.com/LMquentinLR/botjack_discord_bot)."
   ]
  },
  {
   "cell_type": "markdown",
   "metadata": {},
   "source": [
    "### Why image detection for a Discord bot?\n",
    "<p style=\"text-align: center;\"><b>Discord moderation is hard</b>.</p>\n",
    "\n",
    "Any Discord moderation team will tell you that. As such, automating as much as possible the <i>mundane stuff</i> is great. A moderation team for instance may want to identify images posted by users on their server. This may have multiple purposes: classification, tagging, games, etc.\n",
    "\n",
    "<p style=\"text-align: center;\">This notebook will focus on <b>compliance</b>.</p> \n",
    "\n",
    "* Servers often have anti-NSFW (i.e. not safe for watch) rules where explicit, grim, and otherwise unwanted content is banned or curtailed to specific server channels.\n",
    "* Moderation being volunteer-driven on Discord, malicious users may capitalize on idle, asleep, or away-from-keyboard moderators to engage in rule-breaking activities. More commonly, users may simply post a NSFW picture in a SFW-only channel. \n",
    "* A bot able to distinguish NSFW content from SFW helps fill in the gaps that may affect any moderation effort. A bot, for instance, could automatically alert moderators whenever a specific content is posted. And in case, it may even start a moderation process prior to any human intervention.\n",
    "\n",
    "This topic also has an actual application \"IRL\":\n",
    "> <b>Automatic content moderation and compliance is a current industry effort among social media companies (e.g. Facebook)</b>"
   ]
  },
  {
   "cell_type": "code",
   "execution_count": 1,
   "metadata": {},
   "outputs": [
    {
     "name": "stderr",
     "output_type": "stream",
     "text": [
      "Using TensorFlow backend.\n"
     ]
    }
   ],
   "source": [
    "# Importing the necessary modules\n",
    "\n",
    "import collections\n",
    "import derpi_get\n",
    "import datetime\n",
    "import keras\n",
    "from keras.models import Sequential\n",
    "from keras.models import load_model\n",
    "from keras.layers import LeakyReLU\n",
    "from keras.layers import Dense, Dropout, Flatten\n",
    "from keras.layers import Conv2D, MaxPooling2D\n",
    "from keras.layers. normalization import BatchNormalization\n",
    "from keras.optimizers import RMSprop\n",
    "from keras.layers import GaussianNoise\n",
    "import os\n",
    "from PIL import Image\n",
    "import matplotlib.pyplot as plt\n",
    "from matplotlib.dates import DateFormatter\n",
    "import matplotlib.dates as mdates\n",
    "import numpy as np\n",
    "import pandas as pd\n",
    "from pandas.plotting import register_matplotlib_converters\n",
    "register_matplotlib_converters()\n",
    "import random\n",
    "from random import shuffle\n",
    "import shutil"
   ]
  },
  {
   "cell_type": "markdown",
   "metadata": {},
   "source": [
    "------------------"
   ]
  },
  {
   "cell_type": "markdown",
   "metadata": {},
   "source": [
    "# Crawling Derpibooru Using the derpi_get module\n",
    "Using the derpi_get module available [here](https://github.com/LMquentinLR/derpi_get), we download an exhaustive selection of Derpibooru's picture metadata (i.e. all of it).\n",
    "### Why building a web scraper?\n",
    "Derpibooru is a website dedicated to MLP fanart. It provides a REST API for rudimentary site functionality, and can be freely used by anyone wanting to produce tools for the site or other webapps that use Derpibooru-provided data.\n",
    "\n",
    "<b>Derpibooru licensing rules:</b>\n",
    "\"<i>Anyone can use it, users making abusively high numbers of requests may be asked to stop. Your application MUST properly cache, respect server-side cache expiry times. Your client MUST gracefully back off if requests fail (eg non-200 HTTP code), preferably exponentially or fatally.</i>\"\n",
    "\n",
    "A single image can be accessed through the following links:\n",
    "1. <b>Embedded</b>: [../2072316](https://derpibooru.org/2072316)\n",
    "2. <b>Default size</b>: [../img/view/2019/6/22/2072316.png](https://derpicdn.net/img/view/2019/6/22/2072316.png) \n",
    "3. <b>Small size</b>: [../img/view/2019/6/22/2072316_small.png](https://derpicdn.net/img/view/2019/6/22/2072316_small.png)\n",
    "4. <b>Medium size</b>: [../img/view/2019/6/22/2072316_medium.png](https://derpicdn.net/img/view/2019/6/22/2072316_medium.png)\n",
    "5. <b>Large size</b>: [../img/view/2019/6/22/2072316_large.png](https://derpicdn.net/img/view/2019/6/22/2072316_large.png)\n",
    "\n",
    "The metadata of a single picture can be accessed through the following link:\n",
    "* https://derpibooru.org/2072316.json\n",
    "\n",
    "Each picture as the following list of attributes:\n",
    ">id, created_at, updated_at, first_seen_at, score, comment_count, width, height, file_name, description, uploader, uploader_id, image, upvotes, downvotes, faves, tags, tag_ids, aspect_ratio, original_format, mime_type, sha512_hash, orig_sha512_hash, source_url, representations, is_rendered, is_optimized, interactions, spoilered"
   ]
  },
  {
   "cell_type": "code",
   "execution_count": 2,
   "metadata": {},
   "outputs": [],
   "source": [
    "#Initializing the scraper object\n",
    "obj = derpi_get.derpibooru_search()"
   ]
  },
  {
   "cell_type": "code",
   "execution_count": 3,
   "metadata": {},
   "outputs": [
    {
     "name": "stdout",
     "output_type": "stream",
     "text": [
      "----|Entering Derpibooru Data Crawler code|----\n",
      "FILE FOUND: 'derpibooru_metadata.json'\n",
      "You are requesting the derpibooru page starting with the id 2190529.\n",
      "You are requesting the derpibooru page starting with the id 2190555.\n",
      "You are requesting the derpibooru page starting with the id 2190580.\n",
      "You are requesting the derpibooru page starting with the id 2190605.\n",
      "You are requesting the derpibooru page starting with the id 2190631.\n",
      "You are requesting the derpibooru page starting with the id 2190656.\n",
      "You are requesting the derpibooru page starting with the id 2190681.\n",
      "You are requesting the derpibooru page starting with the id 2190685.\n",
      "The crawler scraped the derpibooru metadata. The program will now close.\n",
      "---------------|Exiting Program|---------------\n"
     ]
    }
   ],
   "source": [
    "obj.change_search(instances = \"\") #switch to instances = \"\" for a full crawl of derpibooru\n",
    "obj.crawl()"
   ]
  },
  {
   "cell_type": "markdown",
   "metadata": {},
   "source": [
    "From time to time, retrieved metadata (as a JSON) would be missing tags value. The following method checks for existing missing tags and retrieve them from derpibooru. It acts as a repair method."
   ]
  },
  {
   "cell_type": "code",
   "execution_count": 4,
   "metadata": {},
   "outputs": [
    {
     "name": "stdout",
     "output_type": "stream",
     "text": [
      "----|Repairing missing tags in stored JSON|----\n",
      "----------------|Tags repaired|----------------\n"
     ]
    }
   ],
   "source": [
    "obj.repair()"
   ]
  },
  {
   "cell_type": "markdown",
   "metadata": {},
   "source": [
    "## Retrieving IDs based on tag selection"
   ]
  },
  {
   "cell_type": "markdown",
   "metadata": {},
   "source": [
    "The search function retrieve_ids() of the derpi_get module takes a list of strings that corresponds to picture tags. Each tag must have a prefix, either \"<b>+</b>\" or \"<b>-</b>\".\n",
    "\n",
    "> A \"<b>+</b>\" prefix indicates that IDs with said tag will be kept\n",
    "\n",
    "> A \"<b>-</b>\" prefix indicates that IDs with said tag will be discarded\n",
    "\n",
    "The object \"obj\" has a variable called \"<b>at_least_one</b>\". It is a boolean value so that:\n",
    "1. if <b>TRUE</b>: Only the IDs which tags <b>contain at least one</b> of the items listed in the variable \"<b>tags</b>\" with a \"+\" prefix will be retrieved\n",
    "2. if <b>FALSE</b>: Only the IDs which tags <b>contain all</b> of the items listed in the variable \"<b>tags</b>\" with a \"+\" prefix will be retrieved"
   ]
  },
  {
   "cell_type": "markdown",
   "metadata": {},
   "source": [
    "## Case Use of derpi_get.retrieve_ids(): Data Exploration Using MatPlotlib"
   ]
  },
  {
   "cell_type": "markdown",
   "metadata": {},
   "source": [
    "#### What do we want to plot?\n",
    "\n",
    "> number of pictures pertaining to each five of major ships with one of the main characters of the show."
   ]
  },
  {
   "cell_type": "code",
   "execution_count": 5,
   "metadata": {},
   "outputs": [
    {
     "name": "stdout",
     "output_type": "stream",
     "text": [
      "+rarijack\n",
      "----|Retrieving IDs based on tag selection|----\n",
      "----------------|IDs retrieved|----------------\n",
      "Number of retrieved items:  6113\n",
      "\n",
      "First item retrieved:\n",
      "(2190599, 'derpicdn.net/img/2019/11/8/2190599/large.png')\n",
      "+rarilight\n",
      "----|Retrieving IDs based on tag selection|----\n",
      "----------------|IDs retrieved|----------------\n",
      "Number of retrieved items:  1592\n",
      "\n",
      "First item retrieved:\n",
      "(2190599, 'derpicdn.net/img/2019/11/8/2190599/large.png')\n",
      "+flarity\n",
      "----|Retrieving IDs based on tag selection|----\n",
      "----------------|IDs retrieved|----------------\n",
      "Number of retrieved items:  1354\n",
      "\n",
      "First item retrieved:\n",
      "(2190599, 'derpicdn.net/img/2019/11/8/2190599/large.png')\n",
      "+raridash\n",
      "----|Retrieving IDs based on tag selection|----\n",
      "----------------|IDs retrieved|----------------\n",
      "Number of retrieved items:  1775\n",
      "\n",
      "First item retrieved:\n",
      "(2190599, 'derpicdn.net/img/2019/11/8/2190599/large.png')\n",
      "+raripie\n",
      "----|Retrieving IDs based on tag selection|----\n",
      "----------------|IDs retrieved|----------------\n",
      "Number of retrieved items:  743\n",
      "\n",
      "First item retrieved:\n",
      "(2190599, 'derpicdn.net/img/2019/11/8/2190599/large.png')\n"
     ]
    }
   ],
   "source": [
    "ship_ids = {\"+rarijack\":[],\"+rarilight\":[],\"+flarity\":[],\"+raridash\":[],\"+raripie\":[]}\n",
    "for ship in ship_ids:\n",
    "    print(ship)\n",
    "    obj.change_search(tags = [ship], at_least_one = False)\n",
    "    ship_ids[ship] = obj.retrieve_ids()\n",
    "    print(\"Number of retrieved items: \", len(ship_ids[ship]))\n",
    "    print(\"\\nFirst item retrieved:\")\n",
    "    print(ship_ids[\"+rarijack\"][0])"
   ]
  },
  {
   "cell_type": "markdown",
   "metadata": {},
   "source": [
    "### MatplotLib"
   ]
  },
  {
   "cell_type": "code",
   "execution_count": 6,
   "metadata": {},
   "outputs": [],
   "source": [
    "def create_dataframe(name, data):\n",
    "    \"\"\"\n",
    "    Creates the dataframe containing the data for each pairing in ships\n",
    "    -----\n",
    "    :param <name>: str ; name of pairing\n",
    "    :param <data>: lists ; list of tuples containing the pairing data \n",
    "    \"\"\"\n",
    "    datelist = []\n",
    "    for entry in data:\n",
    "        url_split = entry[1].split(\"/\")\n",
    "        url_split = list(map(int, url_split[-5: -2]))\n",
    "        datelist.append(datetime.date(url_split[0], url_split[1], url_split[2]))\n",
    "    shipping_data = pd.DataFrame(data=dict(collections.Counter(datelist)).values(),\n",
    "                                 index=collections.Counter(datelist))\n",
    "    shipping_data.sort_index(inplace=True)\n",
    "    shipping_data.index = pd.to_datetime(shipping_data.index)\n",
    "    shipping_data = shipping_data.reindex(pd.date_range(shipping_data.index[0],shipping_data.index[-1]), \n",
    "                                          fill_value=0)\n",
    "    shipping_data[1] = shipping_data.cumsum()\n",
    "    shipping_data.columns = [name, \"Cumulative Sum\"]\n",
    "    return shipping_data"
   ]
  },
  {
   "cell_type": "code",
   "execution_count": 7,
   "metadata": {},
   "outputs": [
    {
     "data": {
      "image/png": "[encoded data removed]",
      "text/plain": [
       "<Figure size 1152x648 with 11 Axes>"
      ]
     },
     "metadata": {
      "needs_background": "light"
     },
     "output_type": "display_data"
    }
   ],
   "source": [
    "years = mdates.YearLocator() #every year\n",
    "yearsFmt = mdates.DateFormatter(\"%Y\")\n",
    "\n",
    "fig, axes = plt.subplots(nrows=3, ncols=2, figsize=(16, 9))\n",
    "fig.subplots_adjust(hspace=.45, wspace=.3)\n",
    "\n",
    "counter = 0\n",
    "for i in range(3):\n",
    "    for j in range(2):\n",
    "        if i * j != 2:\n",
    "            df = create_dataframe(list(ship_ids.keys())[counter], ship_ids[list(ship_ids.keys())[counter]])\n",
    "            axes[i, j].set_title(list(ship_ids.keys())[counter])\n",
    "            axes[i, j].plot(df.index, \n",
    "                            df[list(ship_ids.keys())[counter]].values, \n",
    "                            color=\"purple\", \n",
    "                            label=list(ship_ids.keys())[counter])\n",
    "            ax2 = axes[i, j].twinx()\n",
    "            ax2.plot(df.index, \n",
    "                     df[\"Cumulative Sum\"].values, \n",
    "                     color=\"blue\")\n",
    "            ax2.set_ylabel(\"Cumulative Sum\")\n",
    "            axes[i, j].set_xlabel(\"date\")\n",
    "            axes[i, j].set_ylabel(\"nb of daily posts\")\n",
    "            axes[i, j].xaxis.set_major_locator(years)\n",
    "            axes[i, j].xaxis.set_major_formatter(yearsFmt)\n",
    "            axes[2, 1].plot(df.index, df[\"Cumulative Sum\"].values,\n",
    "                            label=list(ship_ids.keys())[counter])\n",
    "        counter += 1\n",
    "\n",
    "axes[2, 1].xaxis.set_major_locator(years)\n",
    "axes[2, 1].xaxis.set_major_formatter(yearsFmt)\n",
    "axes[2, 1].legend()\n",
    "plt.savefig('shipping_chart.png')"
   ]
  },
  {
   "cell_type": "markdown",
   "metadata": {},
   "source": [
    "# SEPARATING SFW FROM NSFW PICTURES"
   ]
  },
  {
   "cell_type": "markdown",
   "metadata": {},
   "source": [
    "## Downloading pictures"
   ]
  },
  {
   "cell_type": "markdown",
   "metadata": {},
   "source": [
    "We need to download a set of pictures which can be used to fit a machine learning model."
   ]
  },
  {
   "cell_type": "code",
   "execution_count": 8,
   "metadata": {},
   "outputs": [],
   "source": [
    "def download(tag_lists, nb_of_requests):\n",
    "    \"\"\"\n",
    "    Downloads pictures based on a list of tag.\n",
    "    ---\n",
    "    :param <tags>: list ; list of tags to sort and download pictures\n",
    "    :param <nb_of_requests>: int ; number of download requests to perform\n",
    "    \"\"\"\n",
    "    obj = derpi_get.derpibooru_search()\n",
    "    for tags in tag_lists:\n",
    "        obj.change_search(tags = tags, at_least_one = True)\n",
    "        id_list = obj.retrieve_ids()\n",
    "        obj.request_imgs(tags, id_list, nb_of_requests)"
   ]
  },
  {
   "cell_type": "code",
   "execution_count": 9,
   "metadata": {
    "scrolled": true
   },
   "outputs": [],
   "source": [
    "tags = [[\"+safe\",\"-comic\", \"-meme\", \"-text\"], \n",
    "        [\"+explicit\", \"+grimdark\", \"+suggestive\", \"+questionable\", \"-comic\", \"-meme\", \"-text\"]]"
   ]
  },
  {
   "cell_type": "code",
   "execution_count": null,
   "metadata": {
    "scrolled": true
   },
   "outputs": [],
   "source": [
    "download(tags, 11000)"
   ]
  },
  {
   "cell_type": "markdown",
   "metadata": {},
   "source": [
    "## Running Machine Learning"
   ]
  },
  {
   "cell_type": "markdown",
   "metadata": {},
   "source": [
    "### Creating samples"
   ]
  },
  {
   "cell_type": "markdown",
   "metadata": {},
   "source": [
    "Based on all the extracted pictures--and to make the process run in a timely manner on my Surface Pro 2--we are sampling the extracted data:\n",
    "\n",
    "- 6400 safe and unsafe pictures for training\n",
    "- 1600 safe and unsafe pictures for testing/validation"
   ]
  },
  {
   "cell_type": "code",
   "execution_count": 11,
   "metadata": {},
   "outputs": [],
   "source": [
    "model_description = [(\"./data/train/Training\", 6400),\n",
    "                     (\"./data/train/Test\", 1600)]\n",
    "img_size = 256"
   ]
  },
  {
   "cell_type": "code",
   "execution_count": 12,
   "metadata": {},
   "outputs": [],
   "source": [
    "def create_sample(folders, model_description):\n",
    "    \"\"\"\n",
    "    Samples existing pictures.\n",
    "    ---\n",
    "    :param <folders>: list ; list of folders to sample\n",
    "    :param <model_description>: list ; list of folders where to store samples \n",
    "                                + nb of pictures to extract\n",
    "    \"\"\"\n",
    "    counter = 0\n",
    "    selection = []\n",
    "    \n",
    "    # checks if training and testing folders exists\n",
    "    # creates them if not, deletes then recreates if they exist\n",
    "    for model in model_description:\n",
    "        target_folder = model[0]\n",
    "        try:\n",
    "            shutil.rmtree(target_folder)\n",
    "        except Exception as e: \n",
    "            print(e)\n",
    "        os.makedirs(target_folder)\n",
    "        \n",
    "        # for safe then unsafe pictures, populates training then testing folders\n",
    "        for folder in folders:\n",
    "            counter = 0\n",
    "            stored_imgs = os.listdir(folder)\n",
    "            while counter <= model[1]:\n",
    "                choice = random.choice(stored_imgs)\n",
    "                if choice not in selection:\n",
    "                    selection.append(choice) #an ID canot be reused\n",
    "                    shutil.copy(folder + \"/\" + choice, target_folder)\n",
    "                    os.rename(target_folder + \"/\" + choice,\n",
    "                             target_folder + \"/\" + folder[7:].split(\"-\")[0]\n",
    "                             + \"-\" + choice)\n",
    "                    counter += 1"
   ]
  },
  {
   "cell_type": "code",
   "execution_count": 13,
   "metadata": {},
   "outputs": [],
   "source": [
    "def label_img(name):\n",
    "    \"\"\"\n",
    "    Returns whether an image is safe or unsafe based on its name.\n",
    "    ---\n",
    "    :param <name>: string ; path/name of a picture\n",
    "    \"\"\"\n",
    "    word_label = name.split('-')[0]\n",
    "    if word_label.startswith(\"+safe\"): \n",
    "        return np.array([1, 0])\n",
    "    else: \n",
    "        return np.array([0, 1])"
   ]
  },
  {
   "cell_type": "code",
   "execution_count": 14,
   "metadata": {
    "scrolled": true
   },
   "outputs": [],
   "source": [
    "def load_data(folder, img_size):\n",
    "    \"\"\"\n",
    "    Loads the safe/unsafe value of each picture stored in a specific folder.\n",
    "    ---\n",
    "    :param <filder>: string ; path of a folder\n",
    "    :param <img_size>: int ; width and height of every image to be trained on/tested\n",
    "    \"\"\"\n",
    "    data = []\n",
    "    for img in os.listdir(folder):\n",
    "        label = label_img(img)\n",
    "        path = os.path.join(folder, img)\n",
    "        img = Image.open(path)\n",
    "        img = img.convert('L') #grayscale\n",
    "        img = img.resize((img_size, img_size), Image.ANTIALIAS)\n",
    "        data.append([np.array(img), label])\n",
    "    shuffle(data)\n",
    "    return data"
   ]
  },
  {
   "cell_type": "code",
   "execution_count": 16,
   "metadata": {},
   "outputs": [
    {
     "name": "stdout",
     "output_type": "stream",
     "text": [
      "[WinError 3] The system cannot find the path specified: './data/train/Training'\n",
      "[WinError 3] The system cannot find the path specified: './data/train/Test'\n"
     ]
    }
   ],
   "source": [
    "folders = [\"./data/+safe-comic-meme-text\", \n",
    "                  \"./data/+explicit+grimdark+questionable+suggestive-comic-meme-text\"]\n",
    "create_sample(folders, model_description)"
   ]
  },
  {
   "cell_type": "markdown",
   "metadata": {},
   "source": [
    "The code below is a rewrite of the following github: [here](https://github.com/CShorten/KaggleDogBreedChallenge/blob/master/DogBreed_BinaryClassification.ipynb?source=post_page---------------------------).\n",
    "Thanks to CShorten!"
   ]
  },
  {
   "cell_type": "code",
   "execution_count": 17,
   "metadata": {},
   "outputs": [],
   "source": [
    "DIR_TRAINING = model_description[0][0]\n",
    "DIR_TESTING = model_description[1][0]"
   ]
  },
  {
   "cell_type": "code",
   "execution_count": 18,
   "metadata": {
    "scrolled": true
   },
   "outputs": [
    {
     "name": "stderr",
     "output_type": "stream",
     "text": [
      "c:\\users\\quent\\appdata\\local\\programs\\python\\python37\\lib\\site-packages\\PIL\\Image.py:993: UserWarning: Palette images with Transparency expressed in bytes should be converted to RGBA images\n",
      "  \"Palette images with Transparency expressed in bytes should be \"\n"
     ]
    }
   ],
   "source": [
    "train_data = load_data(DIR_TRAINING, img_size)\n",
    "#plt.imshow(train_data[0][0], cmap = 'gist_gray') #Shows an example\n",
    "trainImages = np.array([i[0] for i in train_data]).reshape(-1, img_size, img_size, 1) #Flattens\n",
    "trainLabels = np.array([i[1] for i in train_data])"
   ]
  },
  {
   "cell_type": "code",
   "execution_count": 19,
   "metadata": {},
   "outputs": [],
   "source": [
    "test_data = load_data(DIR_TESTING, img_size)    \n",
    "#plt.imshow(test_data[0][0], cmap = 'gist_gray') #Shows an example\n",
    "testImages = np.array([i[0] for i in test_data]).reshape(-1, img_size, img_size, 1) #Flattens\n",
    "testLabels = np.array([i[1] for i in test_data])"
   ]
  },
  {
   "cell_type": "markdown",
   "metadata": {},
   "source": [
    "### Machine Learning Modeling"
   ]
  },
  {
   "cell_type": "code",
   "execution_count": 33,
   "metadata": {},
   "outputs": [],
   "source": [
    "model = Sequential()\n",
    "model.add(Conv2D(64, kernel_size = (5,5), activation='relu', input_shape=(img_size, img_size, 1)))\n",
    "model.add(MaxPooling2D(pool_size=(3,3)))\n",
    "model.add(BatchNormalization())\n",
    "\n",
    "model.add(Conv2D(64, kernel_size=(3,3), activation='relu'))\n",
    "model.add(MaxPooling2D(pool_size=(2,2)))\n",
    "model.add(BatchNormalization())\n",
    "\n",
    "model.add(Conv2D(96, kernel_size=(3,3), activation='relu'))\n",
    "model.add(MaxPooling2D(pool_size=(2,2)))\n",
    "model.add(BatchNormalization())\n",
    "\n",
    "model.add(Conv2D(96, kernel_size=(3,3), activation='relu'))\n",
    "model.add(MaxPooling2D(pool_size=(2,2)))\n",
    "model.add(BatchNormalization())\n",
    "\n",
    "model.add(Conv2D(64, kernel_size=(3,3), activation='relu'))\n",
    "model.add(MaxPooling2D(pool_size=(3,3)))\n",
    "model.add(BatchNormalization())\n",
    "model.add(Dropout(0.3))\n",
    "model.add(Flatten())\n",
    "\n",
    "model.add(Dense(256, activation='relu'))\n",
    "model.add(Dropout(0.3))\n",
    "\n",
    "model.add(Dense(128, activation='relu'))\n",
    "\n",
    "model.add(Dense(2, activation = 'softmax'))"
   ]
  },
  {
   "cell_type": "code",
   "execution_count": 34,
   "metadata": {},
   "outputs": [],
   "source": [
    "model.compile(loss='binary_crossentropy', \n",
    "              optimizer=\"adam\", \n",
    "              metrics = ['accuracy'])"
   ]
  },
  {
   "cell_type": "markdown",
   "metadata": {},
   "source": [
    "### Training #1\n",
    "\n",
    "<b>Batch size</b>: 32\n",
    "\n",
    "<b>Epoch</b>: 5"
   ]
  },
  {
   "cell_type": "code",
   "execution_count": 25,
   "metadata": {
    "scrolled": false
   },
   "outputs": [
    {
     "name": "stdout",
     "output_type": "stream",
     "text": [
      "Epoch 1/5\n",
      "12802/12802 [==============================] - 1979s 155ms/step - loss: 0.7135 - acc: 0.5650\n",
      "Epoch 2/5\n",
      "12802/12802 [==============================] - 1915s 150ms/step - loss: 0.6571 - acc: 0.6113\n",
      "Epoch 3/5\n",
      "12802/12802 [==============================] - 1908s 149ms/step - loss: 0.6349 - acc: 0.6365\n",
      "Epoch 4/5\n",
      "12802/12802 [==============================] - 1901s 148ms/step - loss: 0.6148 - acc: 0.6588\n",
      "Epoch 5/5\n",
      "12802/12802 [==============================] - 1863s 145ms/step - loss: 0.5937 - acc: 0.6803\n"
     ]
    },
    {
     "data": {
      "text/plain": [
       "<keras.callbacks.History at 0x1b0f41d52c8>"
      ]
     },
     "execution_count": 25,
     "metadata": {},
     "output_type": "execute_result"
    }
   ],
   "source": [
    "model.fit(trainImages, \n",
    "          trainLabels, \n",
    "          batch_size = 32, \n",
    "          epochs = 5,\n",
    "          verbose = 1)"
   ]
  },
  {
   "cell_type": "code",
   "execution_count": 26,
   "metadata": {},
   "outputs": [
    {
     "name": "stdout",
     "output_type": "stream",
     "text": [
      "61.43035602748282\n"
     ]
    }
   ],
   "source": [
    "loss, acc = model.evaluate(testImages, testLabels, verbose = 0)\n",
    "print(acc * 100)"
   ]
  },
  {
   "cell_type": "code",
   "execution_count": 27,
   "metadata": {},
   "outputs": [],
   "source": [
    "model.save('NSFWdetect_v1_5ep_32b_5CL_2FC.h5')"
   ]
  },
  {
   "cell_type": "markdown",
   "metadata": {},
   "source": [
    "### Training #2\n",
    "\n",
    "<b>Batch size</b>: 32\n",
    "\n",
    "<b>Epoch</b>: 10"
   ]
  },
  {
   "cell_type": "code",
   "execution_count": 30,
   "metadata": {
    "scrolled": false
   },
   "outputs": [
    {
     "name": "stdout",
     "output_type": "stream",
     "text": [
      "Epoch 1/10\n",
      "12802/12802 [==============================] - 1879s 147ms/step - loss: 0.7076 - acc: 0.5612\n",
      "Epoch 2/10\n",
      "12802/12802 [==============================] - 1872s 146ms/step - loss: 0.6564 - acc: 0.6074\n",
      "Epoch 3/10\n",
      "12802/12802 [==============================] - 1861s 145ms/step - loss: 0.6402 - acc: 0.6344\n",
      "Epoch 4/10\n",
      "12802/12802 [==============================] - 1860s 145ms/step - loss: 0.6186 - acc: 0.6631\n",
      "Epoch 5/10\n",
      "12802/12802 [==============================] - 1858s 145ms/step - loss: 0.6065 - acc: 0.6679\n",
      "Epoch 6/10\n",
      "12802/12802 [==============================] - 1869s 146ms/step - loss: 0.5832 - acc: 0.6887\n",
      "Epoch 7/10\n",
      "12802/12802 [==============================] - 1861s 145ms/step - loss: 0.5675 - acc: 0.7052\n",
      "Epoch 8/10\n",
      "12802/12802 [==============================] - 1867s 146ms/step - loss: 0.5587 - acc: 0.7108\n",
      "Epoch 9/10\n",
      "12802/12802 [==============================] - 1856s 145ms/step - loss: 0.5382 - acc: 0.7247\n",
      "Epoch 10/10\n",
      "12802/12802 [==============================] - 1864s 146ms/step - loss: 0.5169 - acc: 0.7362\n"
     ]
    },
    {
     "data": {
      "text/plain": [
       "<keras.callbacks.History at 0x1b0815edb88>"
      ]
     },
     "execution_count": 30,
     "metadata": {},
     "output_type": "execute_result"
    }
   ],
   "source": [
    "model.fit(trainImages, \n",
    "          trainLabels, \n",
    "          batch_size = 32, \n",
    "          epochs = 10,\n",
    "          verbose = 1)"
   ]
  },
  {
   "cell_type": "code",
   "execution_count": 31,
   "metadata": {},
   "outputs": [
    {
     "name": "stdout",
     "output_type": "stream",
     "text": [
      "67.30168644597127\n"
     ]
    }
   ],
   "source": [
    "loss, acc = model.evaluate(testImages, testLabels, verbose = 0)\n",
    "print(acc * 100)"
   ]
  },
  {
   "cell_type": "code",
   "execution_count": 32,
   "metadata": {},
   "outputs": [],
   "source": [
    "model.save('NSFWdetect_v1_10ep_32b_5CL_2FC.h5')"
   ]
  },
  {
   "cell_type": "markdown",
   "metadata": {},
   "source": [
    "### Training #3\n",
    "\n",
    "<b>Batch size</b>: 32\n",
    "\n",
    "<b>Epoch</b>: 20"
   ]
  },
  {
   "cell_type": "code",
   "execution_count": 35,
   "metadata": {
    "scrolled": false
   },
   "outputs": [
    {
     "name": "stdout",
     "output_type": "stream",
     "text": [
      "Epoch 1/20\n",
      "12802/12802 [==============================] - 2008s 157ms/step - loss: 0.7089 - acc: 0.5614\n",
      "Epoch 2/20\n",
      "12802/12802 [==============================] - 2226s 174ms/step - loss: 0.6615 - acc: 0.5998\n",
      "Epoch 3/20\n",
      "12802/12802 [==============================] - 2267s 177ms/step - loss: 0.6422 - acc: 0.6256\n",
      "Epoch 4/20\n",
      "12802/12802 [==============================] - 2289s 179ms/step - loss: 0.6266 - acc: 0.6477\n",
      "Epoch 5/20\n",
      "12802/12802 [==============================] - 2171s 170ms/step - loss: 0.6139 - acc: 0.6580\n",
      "Epoch 6/20\n",
      "12802/12802 [==============================] - 1903s 149ms/step - loss: 0.5953 - acc: 0.6825\n",
      "Epoch 7/20\n",
      "12802/12802 [==============================] - 1902s 149ms/step - loss: 0.5775 - acc: 0.6955\n",
      "Epoch 8/20\n",
      "12802/12802 [==============================] - 1902s 149ms/step - loss: 0.5582 - acc: 0.7131\n",
      "Epoch 9/20\n",
      "12802/12802 [==============================] - 1897s 148ms/step - loss: 0.5403 - acc: 0.7299\n",
      "Epoch 10/20\n",
      "12802/12802 [==============================] - 1890s 148ms/step - loss: 0.5221 - acc: 0.7378\n",
      "Epoch 11/20\n",
      "12802/12802 [==============================] - 1879s 147ms/step - loss: 0.4949 - acc: 0.7597\n",
      "Epoch 12/20\n",
      "12802/12802 [==============================] - 1886s 147ms/step - loss: 0.4638 - acc: 0.7786\n",
      "Epoch 13/20\n",
      "12802/12802 [==============================] - 1898s 148ms/step - loss: 0.4466 - acc: 0.7904\n",
      "Epoch 14/20\n",
      "12802/12802 [==============================] - 1896s 148ms/step - loss: 0.4073 - acc: 0.8116\n",
      "Epoch 15/20\n",
      "12802/12802 [==============================] - 2349s 183ms/step - loss: 0.3757 - acc: 0.8279\n",
      "Epoch 16/20\n",
      "12802/12802 [==============================] - 2033s 159ms/step - loss: 0.3264 - acc: 0.8528\n",
      "Epoch 17/20\n",
      "12802/12802 [==============================] - 2163s 169ms/step - loss: 0.2869 - acc: 0.8728\n",
      "Epoch 18/20\n",
      "12802/12802 [==============================] - 2398s 187ms/step - loss: 0.2519 - acc: 0.8910\n",
      "Epoch 19/20\n",
      "12802/12802 [==============================] - 2321s 181ms/step - loss: 0.2199 - acc: 0.9071\n",
      "Epoch 20/20\n",
      "12802/12802 [==============================] - 2234s 174ms/step - loss: 0.2108 - acc: 0.9111\n"
     ]
    },
    {
     "data": {
      "text/plain": [
       "<keras.callbacks.History at 0x1b082bbfb88>"
      ]
     },
     "execution_count": 35,
     "metadata": {},
     "output_type": "execute_result"
    }
   ],
   "source": [
    "model.fit(trainImages, \n",
    "          trainLabels, \n",
    "          batch_size = 32, \n",
    "          epochs = 20,\n",
    "          verbose = 1)"
   ]
  },
  {
   "cell_type": "code",
   "execution_count": 36,
   "metadata": {},
   "outputs": [
    {
     "name": "stdout",
     "output_type": "stream",
     "text": [
      "70.45596502186133\n"
     ]
    }
   ],
   "source": [
    "loss, acc = model.evaluate(testImages, testLabels, verbose = 0)\n",
    "print(acc * 100)"
   ]
  },
  {
   "cell_type": "code",
   "execution_count": 37,
   "metadata": {},
   "outputs": [],
   "source": [
    "model.save('NSFWdetect_v1_20ep_32b_5CL_2FC.h5')"
   ]
  }
 ],
 "metadata": {
  "kernelspec": {
   "display_name": "Python 3",
   "language": "python",
   "name": "python3"
  },
  "language_info": {
   "codemirror_mode": {
    "name": "ipython",
    "version": 3
   },
   "file_extension": ".py",
   "mimetype": "text/x-python",
   "name": "python",
   "nbconvert_exporter": "python",
   "pygments_lexer": "ipython3",
   "version": "3.7.4"
  }
 },
 "nbformat": 4,
 "nbformat_minor": 2
}

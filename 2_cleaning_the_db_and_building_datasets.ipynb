{
 "cells": [
  {
   "cell_type": "markdown",
   "metadata": {},
   "source": [
    "# 2. Cleaning the DB and building datasets"
   ]
  },
  {
   "cell_type": "markdown",
   "metadata": {},
   "source": [
    "### Library imports"
   ]
  },
  {
   "cell_type": "code",
   "execution_count": 2,
   "metadata": {},
   "outputs": [],
   "source": [
    "from modules import restore_db\n",
    "from modules import connect_execute_disconnect_from_psql\n",
    "from modules import create_dataset_csv\n",
    "from modules import download_images\n",
    "import os"
   ]
  },
  {
   "cell_type": "markdown",
   "metadata": {},
   "source": [
    "### 1. (OPTIONAL) Restoring the DB"
   ]
  },
  {
   "cell_type": "code",
   "execution_count": null,
   "metadata": {
    "scrolled": true
   },
   "outputs": [],
   "source": [
    "target_folder = \"D:/repositories/MLpy/data_dump/\""
   ]
  },
  {
   "cell_type": "code",
   "execution_count": null,
   "metadata": {
    "scrolled": true
   },
   "outputs": [],
   "source": [
    "!ls data_dump -a"
   ]
  },
  {
   "cell_type": "code",
   "execution_count": null,
   "metadata": {},
   "outputs": [],
   "source": [
    "command_list = {\"KILL all connections \\ DROP DB derpi_lite\": \"DROP DATABASE derpi_lite WITH (FORCE);\",\n",
    "                \"CREATE DB derpi_lite\"                     : \"CREATE DATABASE derpi_lite;\"}\n",
    "\n",
    "connect_execute_disconnect_from_psql(filename=\"database.ini\",\n",
    "                                     section=\"postgresql\",\n",
    "                                     command_list=command_list)"
   ]
  },
  {
   "cell_type": "code",
   "execution_count": null,
   "metadata": {},
   "outputs": [],
   "source": [
    "restore_db(filename=\"database.ini\",\n",
    "           section=\"restoring_derpi_lite\",\n",
    "           source=\"derpi_lite_2020_10_30.pgdump\",\n",
    "           target_folder=target_folder)"
   ]
  },
  {
   "cell_type": "markdown",
   "metadata": {},
   "source": [
    "This process took c. 5 minutes on the following machine:\n",
    "- i5 4460\n",
    "- 16gb ddr3\n",
    "- GTX980ti\n",
    "- 640gb WD HDD 7.2k rpm"
   ]
  },
  {
   "cell_type": "code",
   "execution_count": null,
   "metadata": {},
   "outputs": [],
   "source": [
    "# Waits minutes\n",
    "time.sleep(5*60)"
   ]
  },
  {
   "cell_type": "markdown",
   "metadata": {},
   "source": [
    "### 2. Building a Dataset"
   ]
  },
  {
   "cell_type": "code",
   "execution_count": 3,
   "metadata": {},
   "outputs": [],
   "source": [
    "target_database_folder = \"D:/repositories/MLpy/data_dump/datasets/ds_test/\"\n",
    "if not os.path.exists(target_database_folder): os.makedirs(target_database_folder)"
   ]
  },
  {
   "cell_type": "code",
   "execution_count": 4,
   "metadata": {
    "scrolled": false
   },
   "outputs": [
    {
     "name": "stdout",
     "output_type": "stream",
     "text": [
      "{'retrieve tag id': \"SELECT id FROM new_tags WHERE name IN ('explicit','grotesque');\"}\n",
      "COPY (SELECT id, image_format, version_path FROM new_images WHERE id IN (SELECT image_id FROM new_image_taggings WHERE tag_id IN ('29300','26707')) ORDER BY RANDOM() LIMIT 10) TO 'D:/repositories/MLpy/data_dump/datasets/ds_test/29300_26707.csv' DELIMITER '|' CSV;\n",
      "{'retrieve tag id': \"SELECT id FROM new_tags WHERE name IN ('safe');\"}\n",
      "COPY (SELECT id, image_format, version_path FROM new_images WHERE id IN (SELECT image_id FROM new_image_taggings WHERE tag_id IN ('40482')) ORDER BY RANDOM() LIMIT 10) TO 'D:/repositories/MLpy/data_dump/datasets/ds_test/40482.csv' DELIMITER '|' CSV;\n"
     ]
    }
   ],
   "source": [
    "path_class1 = create_dataset_csv([\"explicit\",\"grotesque\"], 10, target_database_folder)\n",
    "path_class2 = create_dataset_csv([\"safe\"], 10, target_database_folder)"
   ]
  },
  {
   "cell_type": "markdown",
   "metadata": {},
   "source": [
    "### 3. Importing the Dataset data from derpibooru"
   ]
  },
  {
   "cell_type": "code",
   "execution_count": null,
   "metadata": {},
   "outputs": [],
   "source": [
    "download_images(target_database_folder, path_class1)"
   ]
  },
  {
   "cell_type": "code",
   "execution_count": null,
   "metadata": {},
   "outputs": [],
   "source": [
    "download_images(target_database_folder, path_class2)"
   ]
  },
  {
   "cell_type": "markdown",
   "metadata": {},
   "source": [
    "### 4. Downloading the data"
   ]
  },
  {
   "cell_type": "code",
   "execution_count": null,
   "metadata": {},
   "outputs": [],
   "source": []
  }
 ],
 "metadata": {
  "kernelspec": {
   "display_name": "Python 3",
   "language": "python",
   "name": "python3"
  },
  "language_info": {
   "codemirror_mode": {
    "name": "ipython",
    "version": 3
   },
   "file_extension": ".py",
   "mimetype": "text/x-python",
   "name": "python",
   "nbconvert_exporter": "python",
   "pygments_lexer": "ipython3",
   "version": "3.8.3"
  }
 },
 "nbformat": 4,
 "nbformat_minor": 2
}
